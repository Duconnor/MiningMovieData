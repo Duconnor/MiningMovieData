{
 "cells": [
  {
   "cell_type": "markdown",
   "metadata": {},
   "source": [
    "# Classification Part"
   ]
  },
  {
   "cell_type": "markdown",
   "metadata": {},
   "source": [
    "## Goal\n",
    "Using the meta data of movies to build a classifier that can predict the average vote given a movie.\n",
    "\n",
    "## Methods\n",
    "\n",
    "Specifically, the meta data we have are:\n",
    "1. adult\n",
    "2. belongs_to_collection\n",
    "3. budget\n",
    "4. genres\n",
    "5. homepage\n",
    "6. id\n",
    "7. imdb_id\n",
    "8. original_language\n",
    "9. original_title\n",
    "10. overview\n",
    "11. popularity\n",
    "12. poster_path\n",
    "13. production_companies\n",
    "14. production_countries\n",
    "15. release_date\n",
    "16. revenue\n",
    "17. runtime\n",
    "18. spoken_languages\n",
    "19. status\n",
    "20. tagline\n",
    "21. title\n",
    "22. video\n",
    "23. vote_average\n",
    "24. vote_count\n",
    "\n",
    "We will use *budget, genres, popularity, production_compnanies, production_countries, revenue, runtime* as features.\n",
    "\n",
    "We will use *vote_average* as groundtruth value.\n",
    "\n",
    "Since the features here are all of different types and not all of them are numeric, it's a good choice to use **decision trees**. Another good property about decision trees are that they provide interpretability, which is quite important in order to achieve our aim.\n",
    "\n",
    "## How does it contribute to our aim?\n",
    "As our aim claims, we want to discover some interesting information from this move dataset. And for movies, we'd like to know what determines the average vote of a given movie. By building a decision tree classifier and visualize it, we are able to see how the decision process is carried out and what features contribute most to the average vote of the movie. That, we think, meets our aim."
   ]
  },
  {
   "cell_type": "code",
   "execution_count": 22,
   "metadata": {},
   "outputs": [],
   "source": [
    "import os\n",
    "import re\n",
    "import shap\n",
    "import sklearn\n",
    "import numpy as np\n",
    "import pandas as pd\n",
    "import xgboost as xgb\n",
    "import matplotlib.pyplot as plt\n",
    "from sklearn.preprocessing import MultiLabelBinarizer\n",
    "from xgboost import XGBRegressor\n",
    "from sklearn.model_selection import cross_val_score, GridSearchCV, train_test_split"
   ]
  },
  {
   "cell_type": "code",
   "execution_count": 23,
   "metadata": {},
   "outputs": [],
   "source": [
    "# Some environment variables\n",
    "os.environ['OMP_NUM_THREADS']='1'"
   ]
  },
  {
   "cell_type": "markdown",
   "metadata": {},
   "source": [
    "## 1. Load the data"
   ]
  },
  {
   "cell_type": "code",
   "execution_count": 24,
   "metadata": {},
   "outputs": [
    {
     "name": "stderr",
     "output_type": "stream",
     "text": [
      "Columns (10) have mixed types.Specify dtype option on import or set low_memory=False.\n"
     ]
    }
   ],
   "source": [
    "movies_metadata = pd.read_csv('/mnt/data3/duyx/data/dm/movies_metadata.csv')\n",
    "\n",
    "numeric_features_name = ['budget', 'popularity', 'revenue', 'runtime']\n",
    "non_numeric_features_name = ['genres', 'production_companies', 'production_countries']\n",
    "truth_value_name = ['vote_average', 'vote_count']\n",
    "\n",
    "# Extract features that we are going to use\n",
    "movies_metadata = movies_metadata[numeric_features_name + non_numeric_features_name + truth_value_name]"
   ]
  },
  {
   "cell_type": "code",
   "execution_count": 25,
   "metadata": {
    "scrolled": true
   },
   "outputs": [
    {
     "name": "stdout",
     "output_type": "stream",
     "text": [
      "Raw dataset length: 45466\n"
     ]
    }
   ],
   "source": [
    "print('Raw dataset length: %d' % (len(movies_metadata)))"
   ]
  },
  {
   "cell_type": "markdown",
   "metadata": {},
   "source": [
    "## Preprocessing the data\n",
    "\n",
    "After the preprocessing, numeric features should results in float or NaN. Multi-hot features should results in list or NaN."
   ]
  },
  {
   "cell_type": "code",
   "execution_count": 26,
   "metadata": {},
   "outputs": [
    {
     "name": "stdout",
     "output_type": "stream",
     "text": [
      "NaN in production_companies\n",
      "NaN in production_countries\n"
     ]
    },
    {
     "data": {
      "text/plain": [
       "True"
      ]
     },
     "execution_count": 26,
     "metadata": {},
     "output_type": "execute_result"
    }
   ],
   "source": [
    "if (movies_metadata['production_companies'].isna()).any():\n",
    "    print('NaN in production_companies')\n",
    "if (movies_metadata['genres'].isna()).any():\n",
    "    print('NaN in genres')\n",
    "if (movies_metadata['production_countries'].isna()).any():\n",
    "    print('NaN in production_countries')\n",
    "    \n",
    "    \n",
    "pd.isna(movies_metadata['production_countries'][19729])"
   ]
  },
  {
   "cell_type": "markdown",
   "metadata": {},
   "source": [
    "### Principles\n",
    "We use NaN to represents missing values"
   ]
  },
  {
   "cell_type": "code",
   "execution_count": 27,
   "metadata": {},
   "outputs": [
    {
     "data": {
      "text/plain": [
       "0           [{'name': 'Pixar Animation Studios', 'id': 3}]\n",
       "1        [{'name': 'TriStar Pictures', 'id': 559}, {'na...\n",
       "2        [{'name': 'Warner Bros.', 'id': 6194}, {'name'...\n",
       "3        [{'name': 'Twentieth Century Fox Film Corporat...\n",
       "4        [{'name': 'Sandollar Productions', 'id': 5842}...\n",
       "                               ...                        \n",
       "45461                                                   []\n",
       "45462               [{'name': 'Sine Olivia', 'id': 19653}]\n",
       "45463    [{'name': 'American World Pictures', 'id': 6165}]\n",
       "45464                 [{'name': 'Yermoliev', 'id': 88753}]\n",
       "45465                                                   []\n",
       "Name: production_companies, Length: 45466, dtype: object"
      ]
     },
     "execution_count": 27,
     "metadata": {},
     "output_type": "execute_result"
    }
   ],
   "source": [
    "movies_metadata['production_companies']"
   ]
  },
  {
   "cell_type": "code",
   "execution_count": 28,
   "metadata": {},
   "outputs": [],
   "source": [
    "def extract_ids(regex_infos, regex_ids, features_list):\n",
    "    '''\n",
    "    For genres, production_companies, the value we have are all in the form of\n",
    "    [{'id': 1, 'name': XXX}]\n",
    "    This function is used to deal with these kinds of information\n",
    "    '''\n",
    "    ids_lists = [] # List of list of ids for each movie\n",
    "    for features_str in features_list:\n",
    "        # features_str is the content of each row in the dataset\n",
    "        # Two cases are considered as missing\n",
    "        # 1. NaN\n",
    "        # 2. An empty list []\n",
    "        ids = []\n",
    "        if not pd.isna(features_str):\n",
    "            features = re.findall(regex_infos, features_str)\n",
    "            for feature in features:\n",
    "                id_dict = re.search(regex_ids, feature).group()\n",
    "                id = int(id_dict.split(':')[1].strip())\n",
    "                ids.append(id)\n",
    "        \n",
    "        if len(ids) == 0:\n",
    "            ids_lists.append(np.nan)\n",
    "        else:\n",
    "            ids_lists.append(ids)\n",
    "\n",
    "    return ids_lists"
   ]
  },
  {
   "cell_type": "code",
   "execution_count": 29,
   "metadata": {},
   "outputs": [],
   "source": [
    "def extract_names(regex_infos, regex_names, features_list):\n",
    "    '''\n",
    "    For genres, production_companies, the value we have are all in the form of\n",
    "    [{'id': 1, 'name': XXX}]\n",
    "    This function is used to deal with these kinds of information\n",
    "    '''\n",
    "    names_lists = [] # List of list of ids for each movie\n",
    "    for features_str in features_list:\n",
    "        # features_str is the content of each row in the dataset\n",
    "        # Two cases are considered as missing\n",
    "        # 1. NaN\n",
    "        # 2. An empty list []\n",
    "        names = []\n",
    "        if not pd.isna(features_str):\n",
    "            features = re.findall(regex_infos, features_str)\n",
    "            for feature in features:\n",
    "                name_dict = re.search(regex_names, feature).group()\n",
    "                name = name_dict.split(':')[1].strip()[1:-1]\n",
    "                names.append(name)\n",
    "        \n",
    "        if len(names) == 0:\n",
    "            names_lists.append(np.nan)\n",
    "        else:\n",
    "            names_lists.append(names)\n",
    "\n",
    "    return names_lists"
   ]
  },
  {
   "cell_type": "code",
   "execution_count": 30,
   "metadata": {},
   "outputs": [],
   "source": [
    "def names_to_ids(names_list):\n",
    "    # Convert a list of names to ids\n",
    "    names_set = set()\n",
    "    ids_list = []\n",
    "    for names in names_list:\n",
    "        if isinstance(names, list):\n",
    "            for name in names:\n",
    "                names_set.add(name)\n",
    "                \n",
    "    names_unique_list = list(names_set)\n",
    "    print('Total number of ids: %d' % (len(names_unique_list)))\n",
    "    for names in names_list:\n",
    "        if isinstance(names, list):\n",
    "            ids = []\n",
    "            for name in names:\n",
    "                ids.append(names_unique_list.index(name))\n",
    "            \n",
    "            ids_list.append(ids)\n",
    "        else:\n",
    "            # Missing values\n",
    "            ids_list.append(np.nan)\n",
    "    \n",
    "    return ids_list"
   ]
  },
  {
   "cell_type": "markdown",
   "metadata": {},
   "source": [
    "### 1. Convert data types of 'budget', 'popularity', 'revenue', 'runtime' and 'vote_average' to numeric values and handle missing values"
   ]
  },
  {
   "cell_type": "code",
   "execution_count": 31,
   "metadata": {},
   "outputs": [],
   "source": [
    "# There are columns that is number but has type other than numeric, we need to convert them into numeric values first\n",
    "# In our case, it's budget and popularity\n",
    "movies_metadata['budget'] = pd.to_numeric(movies_metadata['budget'], errors='coerce')\n",
    "movies_metadata['popularity'] = pd.to_numeric(movies_metadata['popularity'], errors='coerce')\n",
    "movies_metadata['revenue'] = pd.to_numeric(movies_metadata['revenue'], errors='coerce')\n",
    "movies_metadata['runtime'] = pd.to_numeric(movies_metadata['runtime'], errors='coerce')\n",
    "\n",
    "# For budget and revenue, the values should be greater than 0, otherwise, we should also consider it as a missing value. Therefore, we need to convert all 0 values to NaN\n",
    "movies_metadata['budget'].replace(0, np.nan, inplace=True)\n",
    "movies_metadata['revenue'].replace(0, np.nan, inplace=True)"
   ]
  },
  {
   "cell_type": "markdown",
   "metadata": {},
   "source": [
    "### 2. Remove those with vote_count less than 5 or vote_count is NaN"
   ]
  },
  {
   "cell_type": "code",
   "execution_count": 32,
   "metadata": {},
   "outputs": [],
   "source": [
    "movies_metadata['vote_count'] = pd.to_numeric(movies_metadata['vote_count'], errors='coerce')\n",
    "movies_metadata.drop(movies_metadata[movies_metadata['vote_count'] < 5].index, inplace=True)\n",
    "movies_metadata.drop(movies_metadata[movies_metadata['vote_count'].isna()].index, inplace=True)"
   ]
  },
  {
   "cell_type": "code",
   "execution_count": 33,
   "metadata": {},
   "outputs": [
    {
     "name": "stdout",
     "output_type": "stream",
     "text": [
      "Removing all examples that have vote count less than 5 or vote count is NaN...\n",
      "Remaining dataset length: 30898\n"
     ]
    }
   ],
   "source": [
    "print('Removing all examples that have vote count less than 5 or vote count is NaN...')\n",
    "print('Remaining dataset length: %d' % (len(movies_metadata)))"
   ]
  },
  {
   "cell_type": "markdown",
   "metadata": {},
   "source": [
    "### 3. Deal with the genres"
   ]
  },
  {
   "cell_type": "code",
   "execution_count": 34,
   "metadata": {},
   "outputs": [],
   "source": [
    "genres = movies_metadata['genres']"
   ]
  },
  {
   "cell_type": "code",
   "execution_count": 35,
   "metadata": {},
   "outputs": [],
   "source": [
    "regex_infos = \"\\{[^\\{\\}]+\\}\"\n",
    "regex_names = \"'name': '[a-zA-Z ]+'\"\n",
    "genres_names_list = extract_names(regex_infos, regex_names, genres)\n",
    "#genres_ids_list = names_to_ids(genres_names_list)\n",
    "genres_ids_list = genres_names_list"
   ]
  },
  {
   "cell_type": "markdown",
   "metadata": {},
   "source": [
    "### 4. Deal with production companies"
   ]
  },
  {
   "cell_type": "code",
   "execution_count": 36,
   "metadata": {
    "scrolled": false
   },
   "outputs": [],
   "source": [
    "regex_infos = \"\\{[^\\{\\}]+\\}\"\n",
    "regex_names = \"'name': (('[^']+')|(\\\"[^\\\"]+\\\"))\"\n",
    "production_companies_names_list = extract_names(regex_infos, regex_names, movies_metadata['production_companies'])\n",
    "#production_companies_ids_list = names_to_ids(production_companies_names_list)\n",
    "production_companies_ids_list = production_companies_names_list"
   ]
  },
  {
   "cell_type": "markdown",
   "metadata": {},
   "source": [
    "### 5. Deal with production_countries "
   ]
  },
  {
   "cell_type": "code",
   "execution_count": 37,
   "metadata": {},
   "outputs": [],
   "source": [
    "regex_infos = \"\\{[^\\{\\}]+\\}\"\n",
    "regex_names = \"'iso_3166_1': '[A-Z]+'\"\n",
    "production_countries_names_list = extract_names(regex_infos, regex_names, movies_metadata['production_countries'])\n",
    "#production_countries_ids_list = names_to_ids(production_countries_names_list)\n",
    "production_countries_ids_list = production_countries_names_list"
   ]
  },
  {
   "cell_type": "markdown",
   "metadata": {},
   "source": [
    "### 6. Convert 'genres', 'production_companies' and 'production_countries' to multi-hot features"
   ]
  },
  {
   "cell_type": "code",
   "execution_count": 38,
   "metadata": {},
   "outputs": [],
   "source": [
    "mlb = MultiLabelBinarizer()"
   ]
  },
  {
   "cell_type": "code",
   "execution_count": 39,
   "metadata": {},
   "outputs": [],
   "source": [
    "def to_multi_hot(mlb, ids_series):\n",
    "#     nan_mask = ids_series.isna()\n",
    "#     multi_hot_labels = pd.Series(mlb.fit_transform(ids_series[~nan_mask]).tolist())\n",
    "#     j = 0\n",
    "#     for i in ids_series.index:\n",
    "#         if not nan_mask[i]:\n",
    "#             ids_series[i] = multi_hot_labels[j]\n",
    "#             j += 1\n",
    "\n",
    "    return ids_series"
   ]
  },
  {
   "cell_type": "code",
   "execution_count": 40,
   "metadata": {},
   "outputs": [],
   "source": [
    "genres_series = to_multi_hot(mlb, pd.Series(genres_ids_list))\n",
    "production_companies_series = to_multi_hot(mlb, pd.Series(production_companies_ids_list))\n",
    "production_countries_series = to_multi_hot(mlb, pd.Series(production_countries_ids_list))"
   ]
  },
  {
   "cell_type": "markdown",
   "metadata": {},
   "source": [
    "### Finally, put them together to obatin the final dataset"
   ]
  },
  {
   "cell_type": "code",
   "execution_count": 41,
   "metadata": {},
   "outputs": [],
   "source": [
    "budget = pd.DataFrame(movies_metadata['budget'])\n",
    "popularity = pd.DataFrame(movies_metadata['popularity'])\n",
    "revenue = pd.DataFrame(movies_metadata['revenue'])\n",
    "runtime = pd.DataFrame(movies_metadata['runtime'])\n",
    "genres = pd.DataFrame(genres_series, columns=['genres'])\n",
    "production_companies = pd.DataFrame(production_companies_series, columns=['production_companies'])\n",
    "production_countries = pd.DataFrame(production_countries_series, columns=['production_countries'])\n",
    "\n",
    "X_df = pd.concat([\n",
    "    budget.reset_index(drop=True),\n",
    "    popularity.reset_index(drop=True),\n",
    "    revenue.reset_index(drop=True),\n",
    "    runtime.reset_index(drop=True),\n",
    "    genres,\n",
    "    production_companies,\n",
    "    production_countries,\n",
    "], axis=1)"
   ]
  },
  {
   "cell_type": "code",
   "execution_count": 43,
   "metadata": {},
   "outputs": [],
   "source": [
    "X_df.columns = ['Budget', 'Popularity', 'Revenue', 'Runtime', 'genres', 'production_companies', 'production_countries']"
   ]
  },
  {
   "cell_type": "code",
   "execution_count": 44,
   "metadata": {},
   "outputs": [
    {
     "data": {
      "text/html": [
       "<div>\n",
       "<style scoped>\n",
       "    .dataframe tbody tr th:only-of-type {\n",
       "        vertical-align: middle;\n",
       "    }\n",
       "\n",
       "    .dataframe tbody tr th {\n",
       "        vertical-align: top;\n",
       "    }\n",
       "\n",
       "    .dataframe thead th {\n",
       "        text-align: right;\n",
       "    }\n",
       "</style>\n",
       "<table border=\"1\" class=\"dataframe\">\n",
       "  <thead>\n",
       "    <tr style=\"text-align: right;\">\n",
       "      <th></th>\n",
       "      <th>Budget</th>\n",
       "      <th>Popularity</th>\n",
       "      <th>Revenue</th>\n",
       "      <th>Runtime</th>\n",
       "      <th>genres</th>\n",
       "      <th>production_companies</th>\n",
       "      <th>production_countries</th>\n",
       "    </tr>\n",
       "  </thead>\n",
       "  <tbody>\n",
       "    <tr>\n",
       "      <th>0</th>\n",
       "      <td>30000000.0</td>\n",
       "      <td>21.946943</td>\n",
       "      <td>373554033.0</td>\n",
       "      <td>81.0</td>\n",
       "      <td>[Animation, Comedy, Family]</td>\n",
       "      <td>[Pixar Animation Studios]</td>\n",
       "      <td>[US]</td>\n",
       "    </tr>\n",
       "    <tr>\n",
       "      <th>1</th>\n",
       "      <td>65000000.0</td>\n",
       "      <td>17.015539</td>\n",
       "      <td>262797249.0</td>\n",
       "      <td>104.0</td>\n",
       "      <td>[Adventure, Fantasy, Family]</td>\n",
       "      <td>[TriStar Pictures, Teitler Film, Interscope Co...</td>\n",
       "      <td>[US]</td>\n",
       "    </tr>\n",
       "    <tr>\n",
       "      <th>2</th>\n",
       "      <td>NaN</td>\n",
       "      <td>11.712900</td>\n",
       "      <td>NaN</td>\n",
       "      <td>101.0</td>\n",
       "      <td>[Romance, Comedy]</td>\n",
       "      <td>[Warner Bros., Lancaster Gate]</td>\n",
       "      <td>[US]</td>\n",
       "    </tr>\n",
       "    <tr>\n",
       "      <th>3</th>\n",
       "      <td>16000000.0</td>\n",
       "      <td>3.859495</td>\n",
       "      <td>81452156.0</td>\n",
       "      <td>127.0</td>\n",
       "      <td>[Comedy, Drama, Romance]</td>\n",
       "      <td>[Twentieth Century Fox Film Corporation]</td>\n",
       "      <td>[US]</td>\n",
       "    </tr>\n",
       "    <tr>\n",
       "      <th>4</th>\n",
       "      <td>NaN</td>\n",
       "      <td>8.387519</td>\n",
       "      <td>76578911.0</td>\n",
       "      <td>106.0</td>\n",
       "      <td>[Comedy]</td>\n",
       "      <td>[Sandollar Productions, Touchstone Pictures]</td>\n",
       "      <td>[US]</td>\n",
       "    </tr>\n",
       "    <tr>\n",
       "      <th>...</th>\n",
       "      <td>...</td>\n",
       "      <td>...</td>\n",
       "      <td>...</td>\n",
       "      <td>...</td>\n",
       "      <td>...</td>\n",
       "      <td>...</td>\n",
       "      <td>...</td>\n",
       "    </tr>\n",
       "    <tr>\n",
       "      <th>30893</th>\n",
       "      <td>NaN</td>\n",
       "      <td>0.225432</td>\n",
       "      <td>NaN</td>\n",
       "      <td>2.0</td>\n",
       "      <td>[Comedy, Fantasy]</td>\n",
       "      <td>[Star-Film]</td>\n",
       "      <td>[FR]</td>\n",
       "    </tr>\n",
       "    <tr>\n",
       "      <th>30894</th>\n",
       "      <td>NaN</td>\n",
       "      <td>1.559596</td>\n",
       "      <td>NaN</td>\n",
       "      <td>146.0</td>\n",
       "      <td>[Crime, Drama, Thriller]</td>\n",
       "      <td>[Mad Films, Third Eye Pictures]</td>\n",
       "      <td>[IN]</td>\n",
       "    </tr>\n",
       "    <tr>\n",
       "      <th>30895</th>\n",
       "      <td>NaN</td>\n",
       "      <td>0.222814</td>\n",
       "      <td>NaN</td>\n",
       "      <td>65.0</td>\n",
       "      <td>[Horror, Mystery, Thriller]</td>\n",
       "      <td>[Universal Pictures]</td>\n",
       "      <td>[US]</td>\n",
       "    </tr>\n",
       "    <tr>\n",
       "      <th>30896</th>\n",
       "      <td>NaN</td>\n",
       "      <td>5.683753</td>\n",
       "      <td>NaN</td>\n",
       "      <td>104.0</td>\n",
       "      <td>[Drama, Action, Romance]</td>\n",
       "      <td>[Westdeutscher Rundfunk (WDR), Working Title F...</td>\n",
       "      <td>[CA, DE, GB, US]</td>\n",
       "    </tr>\n",
       "    <tr>\n",
       "      <th>30897</th>\n",
       "      <td>NaN</td>\n",
       "      <td>0.903007</td>\n",
       "      <td>NaN</td>\n",
       "      <td>90.0</td>\n",
       "      <td>[Action, Drama, Thriller]</td>\n",
       "      <td>[American World Pictures]</td>\n",
       "      <td>[US]</td>\n",
       "    </tr>\n",
       "  </tbody>\n",
       "</table>\n",
       "<p>30898 rows × 7 columns</p>\n",
       "</div>"
      ],
      "text/plain": [
       "           Budget  Popularity      Revenue  Runtime  \\\n",
       "0      30000000.0   21.946943  373554033.0     81.0   \n",
       "1      65000000.0   17.015539  262797249.0    104.0   \n",
       "2             NaN   11.712900          NaN    101.0   \n",
       "3      16000000.0    3.859495   81452156.0    127.0   \n",
       "4             NaN    8.387519   76578911.0    106.0   \n",
       "...           ...         ...          ...      ...   \n",
       "30893         NaN    0.225432          NaN      2.0   \n",
       "30894         NaN    1.559596          NaN    146.0   \n",
       "30895         NaN    0.222814          NaN     65.0   \n",
       "30896         NaN    5.683753          NaN    104.0   \n",
       "30897         NaN    0.903007          NaN     90.0   \n",
       "\n",
       "                             genres  \\\n",
       "0       [Animation, Comedy, Family]   \n",
       "1      [Adventure, Fantasy, Family]   \n",
       "2                 [Romance, Comedy]   \n",
       "3          [Comedy, Drama, Romance]   \n",
       "4                          [Comedy]   \n",
       "...                             ...   \n",
       "30893             [Comedy, Fantasy]   \n",
       "30894      [Crime, Drama, Thriller]   \n",
       "30895   [Horror, Mystery, Thriller]   \n",
       "30896      [Drama, Action, Romance]   \n",
       "30897     [Action, Drama, Thriller]   \n",
       "\n",
       "                                    production_companies production_countries  \n",
       "0                              [Pixar Animation Studios]                 [US]  \n",
       "1      [TriStar Pictures, Teitler Film, Interscope Co...                 [US]  \n",
       "2                         [Warner Bros., Lancaster Gate]                 [US]  \n",
       "3               [Twentieth Century Fox Film Corporation]                 [US]  \n",
       "4           [Sandollar Productions, Touchstone Pictures]                 [US]  \n",
       "...                                                  ...                  ...  \n",
       "30893                                        [Star-Film]                 [FR]  \n",
       "30894                    [Mad Films, Third Eye Pictures]                 [IN]  \n",
       "30895                               [Universal Pictures]                 [US]  \n",
       "30896  [Westdeutscher Rundfunk (WDR), Working Title F...     [CA, DE, GB, US]  \n",
       "30897                          [American World Pictures]                 [US]  \n",
       "\n",
       "[30898 rows x 7 columns]"
      ]
     },
     "execution_count": 44,
     "metadata": {},
     "output_type": "execute_result"
    }
   ],
   "source": [
    "X_df"
   ]
  },
  {
   "cell_type": "code",
   "execution_count": 48,
   "metadata": {},
   "outputs": [],
   "source": [
    "X_df.to_csv('processed_meta_data.csv', index=False)"
   ]
  },
  {
   "cell_type": "code",
   "execution_count": 45,
   "metadata": {},
   "outputs": [
    {
     "data": {
      "text/plain": [
       "Budget                  float64\n",
       "Popularity              float64\n",
       "Revenue                 float64\n",
       "Runtime                 float64\n",
       "genres                   object\n",
       "production_companies     object\n",
       "production_countries     object\n",
       "dtype: object"
      ]
     },
     "execution_count": 45,
     "metadata": {},
     "output_type": "execute_result"
    }
   ],
   "source": [
    "X_df.dtypes"
   ]
  },
  {
   "cell_type": "code",
   "execution_count": 46,
   "metadata": {},
   "outputs": [],
   "source": [
    "Y_df = pd.DataFrame(movies_metadata['vote_average']).reset_index(drop=True)"
   ]
  },
  {
   "cell_type": "code",
   "execution_count": 47,
   "metadata": {},
   "outputs": [
    {
     "data": {
      "text/html": [
       "<div>\n",
       "<style scoped>\n",
       "    .dataframe tbody tr th:only-of-type {\n",
       "        vertical-align: middle;\n",
       "    }\n",
       "\n",
       "    .dataframe tbody tr th {\n",
       "        vertical-align: top;\n",
       "    }\n",
       "\n",
       "    .dataframe thead th {\n",
       "        text-align: right;\n",
       "    }\n",
       "</style>\n",
       "<table border=\"1\" class=\"dataframe\">\n",
       "  <thead>\n",
       "    <tr style=\"text-align: right;\">\n",
       "      <th></th>\n",
       "      <th>vote_average</th>\n",
       "    </tr>\n",
       "  </thead>\n",
       "  <tbody>\n",
       "    <tr>\n",
       "      <th>0</th>\n",
       "      <td>7.7</td>\n",
       "    </tr>\n",
       "    <tr>\n",
       "      <th>1</th>\n",
       "      <td>6.9</td>\n",
       "    </tr>\n",
       "    <tr>\n",
       "      <th>2</th>\n",
       "      <td>6.5</td>\n",
       "    </tr>\n",
       "    <tr>\n",
       "      <th>3</th>\n",
       "      <td>6.1</td>\n",
       "    </tr>\n",
       "    <tr>\n",
       "      <th>4</th>\n",
       "      <td>5.7</td>\n",
       "    </tr>\n",
       "    <tr>\n",
       "      <th>...</th>\n",
       "      <td>...</td>\n",
       "    </tr>\n",
       "    <tr>\n",
       "      <th>30893</th>\n",
       "      <td>6.5</td>\n",
       "    </tr>\n",
       "    <tr>\n",
       "      <th>30894</th>\n",
       "      <td>6.6</td>\n",
       "    </tr>\n",
       "    <tr>\n",
       "      <th>30895</th>\n",
       "      <td>6.3</td>\n",
       "    </tr>\n",
       "    <tr>\n",
       "      <th>30896</th>\n",
       "      <td>5.7</td>\n",
       "    </tr>\n",
       "    <tr>\n",
       "      <th>30897</th>\n",
       "      <td>3.8</td>\n",
       "    </tr>\n",
       "  </tbody>\n",
       "</table>\n",
       "<p>30898 rows × 1 columns</p>\n",
       "</div>"
      ],
      "text/plain": [
       "       vote_average\n",
       "0               7.7\n",
       "1               6.9\n",
       "2               6.5\n",
       "3               6.1\n",
       "4               5.7\n",
       "...             ...\n",
       "30893           6.5\n",
       "30894           6.6\n",
       "30895           6.3\n",
       "30896           5.7\n",
       "30897           3.8\n",
       "\n",
       "[30898 rows x 1 columns]"
      ]
     },
     "execution_count": 47,
     "metadata": {},
     "output_type": "execute_result"
    }
   ],
   "source": [
    "Y_df"
   ]
  },
  {
   "cell_type": "markdown",
   "metadata": {},
   "source": [
    "## Perform classification"
   ]
  },
  {
   "cell_type": "markdown",
   "metadata": {},
   "source": [
    "### Using numeric features"
   ]
  },
  {
   "cell_type": "code",
   "execution_count": 52,
   "metadata": {},
   "outputs": [],
   "source": [
    "test_size = len(X_df) // 10\n",
    "train_size = len(X_df) - test_size\n",
    "X_df_train = X_df[:train_size]\n",
    "Y_df_train = Y_df[:train_size]\n",
    "X_df_test = X_df[train_size:]\n",
    "Y_df_test = Y_df[train_size:]"
   ]
  },
  {
   "cell_type": "code",
   "execution_count": 53,
   "metadata": {},
   "outputs": [],
   "source": [
    "train = xgb.DMatrix(X_df_train[numeric_features_name], label=Y_df_train, missing=np.nan)\n",
    "test = xgb.DMatrix(X_df_test[numeric_features_name], label=Y_df_test, missing=np.nan)"
   ]
  },
  {
   "cell_type": "code",
   "execution_count": 54,
   "metadata": {},
   "outputs": [],
   "source": [
    "xgb_params = {\n",
    "    'eta': 0.01,\n",
    "    'subsample': 0.8,\n",
    "    'colsample_bytree': 0.8,\n",
    "    'max_depth': 5\n",
    "}"
   ]
  },
  {
   "cell_type": "code",
   "execution_count": 55,
   "metadata": {},
   "outputs": [],
   "source": [
    "eval_list = [(test, 'eval'), (train, 'train')]"
   ]
  },
  {
   "cell_type": "code",
   "execution_count": 56,
   "metadata": {
    "scrolled": true
   },
   "outputs": [
    {
     "name": "stdout",
     "output_type": "stream",
     "text": [
      "[0]\teval-rmse:5.60179\ttrain-rmse:5.64170\n",
      "[1]\teval-rmse:5.54766\ttrain-rmse:5.58709\n",
      "[2]\teval-rmse:5.49425\ttrain-rmse:5.53300\n",
      "[3]\teval-rmse:5.44132\ttrain-rmse:5.47951\n",
      "[4]\teval-rmse:5.38891\ttrain-rmse:5.42652\n",
      "[5]\teval-rmse:5.33698\ttrain-rmse:5.37407\n",
      "[6]\teval-rmse:5.28576\ttrain-rmse:5.32223\n",
      "[7]\teval-rmse:5.23502\ttrain-rmse:5.27094\n",
      "[8]\teval-rmse:5.18483\ttrain-rmse:5.22018\n",
      "[9]\teval-rmse:5.13510\ttrain-rmse:5.16992\n",
      "[10]\teval-rmse:5.08589\ttrain-rmse:5.12011\n",
      "[11]\teval-rmse:5.03716\ttrain-rmse:5.07084\n",
      "[12]\teval-rmse:4.98928\ttrain-rmse:5.02220\n",
      "[13]\teval-rmse:4.94166\ttrain-rmse:4.97401\n",
      "[14]\teval-rmse:4.89470\ttrain-rmse:4.92633\n",
      "[15]\teval-rmse:4.84815\ttrain-rmse:4.87914\n",
      "[16]\teval-rmse:4.80206\ttrain-rmse:4.83244\n",
      "[17]\teval-rmse:4.75638\ttrain-rmse:4.78620\n",
      "[18]\teval-rmse:4.71115\ttrain-rmse:4.74041\n",
      "[19]\teval-rmse:4.66645\ttrain-rmse:4.69510\n",
      "[20]\teval-rmse:4.62260\ttrain-rmse:4.65043\n",
      "[21]\teval-rmse:4.57887\ttrain-rmse:4.60604\n",
      "[22]\teval-rmse:4.53563\ttrain-rmse:4.56211\n",
      "[23]\teval-rmse:4.49278\ttrain-rmse:4.51868\n",
      "[24]\teval-rmse:4.45076\ttrain-rmse:4.47587\n",
      "[25]\teval-rmse:4.40888\ttrain-rmse:4.43332\n",
      "[26]\teval-rmse:4.36739\ttrain-rmse:4.39120\n",
      "[27]\teval-rmse:4.32680\ttrain-rmse:4.34968\n",
      "[28]\teval-rmse:4.28611\ttrain-rmse:4.30848\n",
      "[29]\teval-rmse:4.24595\ttrain-rmse:4.26774\n",
      "[30]\teval-rmse:4.20620\ttrain-rmse:4.22739\n",
      "[31]\teval-rmse:4.16716\ttrain-rmse:4.18756\n",
      "[32]\teval-rmse:4.12829\ttrain-rmse:4.14805\n",
      "[33]\teval-rmse:4.09018\ttrain-rmse:4.10905\n",
      "[34]\teval-rmse:4.05222\ttrain-rmse:4.07037\n",
      "[35]\teval-rmse:4.01459\ttrain-rmse:4.03212\n",
      "[36]\teval-rmse:3.97729\ttrain-rmse:3.99423\n",
      "[37]\teval-rmse:3.94046\ttrain-rmse:3.95674\n",
      "[38]\teval-rmse:3.90440\ttrain-rmse:3.91976\n",
      "[39]\teval-rmse:3.86832\ttrain-rmse:3.88305\n",
      "[40]\teval-rmse:3.83304\ttrain-rmse:3.84686\n",
      "[41]\teval-rmse:3.79807\ttrain-rmse:3.81109\n",
      "[42]\teval-rmse:3.76350\ttrain-rmse:3.77566\n",
      "[43]\teval-rmse:3.72908\ttrain-rmse:3.74049\n",
      "[44]\teval-rmse:3.69504\ttrain-rmse:3.70571\n",
      "[45]\teval-rmse:3.66145\ttrain-rmse:3.67129\n",
      "[46]\teval-rmse:3.62798\ttrain-rmse:3.63722\n",
      "[47]\teval-rmse:3.59498\ttrain-rmse:3.60358\n",
      "[48]\teval-rmse:3.56236\ttrain-rmse:3.57029\n",
      "[49]\teval-rmse:3.53014\ttrain-rmse:3.53735\n",
      "[50]\teval-rmse:3.49832\ttrain-rmse:3.50475\n",
      "[51]\teval-rmse:3.46689\ttrain-rmse:3.47248\n",
      "[52]\teval-rmse:3.43575\ttrain-rmse:3.44057\n",
      "[53]\teval-rmse:3.40526\ttrain-rmse:3.40910\n",
      "[54]\teval-rmse:3.37467\ttrain-rmse:3.37784\n",
      "[55]\teval-rmse:3.34436\ttrain-rmse:3.34694\n",
      "[56]\teval-rmse:3.31460\ttrain-rmse:3.31636\n",
      "[57]\teval-rmse:3.28536\ttrain-rmse:3.28619\n",
      "[58]\teval-rmse:3.25648\ttrain-rmse:3.25637\n",
      "[59]\teval-rmse:3.22758\ttrain-rmse:3.22680\n",
      "[60]\teval-rmse:3.19903\ttrain-rmse:3.19751\n",
      "[61]\teval-rmse:3.17081\ttrain-rmse:3.16860\n",
      "[62]\teval-rmse:3.14283\ttrain-rmse:3.13998\n",
      "[63]\teval-rmse:3.11539\ttrain-rmse:3.11173\n",
      "[64]\teval-rmse:3.08815\ttrain-rmse:3.08376\n",
      "[65]\teval-rmse:3.06131\ttrain-rmse:3.05608\n",
      "[66]\teval-rmse:3.03470\ttrain-rmse:3.02872\n",
      "[67]\teval-rmse:3.00836\ttrain-rmse:3.00163\n",
      "[68]\teval-rmse:2.98269\ttrain-rmse:2.97493\n",
      "[69]\teval-rmse:2.95707\ttrain-rmse:2.94840\n",
      "[70]\teval-rmse:2.93182\ttrain-rmse:2.92224\n",
      "[71]\teval-rmse:2.90693\ttrain-rmse:2.89636\n",
      "[72]\teval-rmse:2.88219\ttrain-rmse:2.87078\n",
      "[73]\teval-rmse:2.85794\ttrain-rmse:2.84552\n",
      "[74]\teval-rmse:2.83361\ttrain-rmse:2.82046\n",
      "[75]\teval-rmse:2.80965\ttrain-rmse:2.79571\n",
      "[76]\teval-rmse:2.78601\ttrain-rmse:2.77122\n",
      "[77]\teval-rmse:2.76258\ttrain-rmse:2.74701\n",
      "[78]\teval-rmse:2.73946\ttrain-rmse:2.72308\n",
      "[79]\teval-rmse:2.71668\ttrain-rmse:2.69941\n",
      "[80]\teval-rmse:2.69394\ttrain-rmse:2.67593\n",
      "[81]\teval-rmse:2.67150\ttrain-rmse:2.65274\n",
      "[82]\teval-rmse:2.64954\ttrain-rmse:2.62985\n",
      "[83]\teval-rmse:2.62771\ttrain-rmse:2.60725\n",
      "[84]\teval-rmse:2.60650\ttrain-rmse:2.58495\n",
      "[85]\teval-rmse:2.58530\ttrain-rmse:2.56285\n",
      "[86]\teval-rmse:2.56434\ttrain-rmse:2.54098\n",
      "[87]\teval-rmse:2.54362\ttrain-rmse:2.51939\n",
      "[88]\teval-rmse:2.52315\ttrain-rmse:2.49805\n",
      "[89]\teval-rmse:2.50289\ttrain-rmse:2.47694\n",
      "[90]\teval-rmse:2.48284\ttrain-rmse:2.45607\n",
      "[91]\teval-rmse:2.46341\ttrain-rmse:2.43551\n",
      "[92]\teval-rmse:2.44393\ttrain-rmse:2.41509\n",
      "[93]\teval-rmse:2.42488\ttrain-rmse:2.39498\n",
      "[94]\teval-rmse:2.40577\ttrain-rmse:2.37501\n",
      "[95]\teval-rmse:2.38702\ttrain-rmse:2.35531\n",
      "[96]\teval-rmse:2.36840\ttrain-rmse:2.33586\n",
      "[97]\teval-rmse:2.35002\ttrain-rmse:2.31663\n",
      "[98]\teval-rmse:2.33209\ttrain-rmse:2.29764\n",
      "[99]\teval-rmse:2.31425\ttrain-rmse:2.27886\n",
      "[100]\teval-rmse:2.29680\ttrain-rmse:2.26029\n",
      "[101]\teval-rmse:2.27942\ttrain-rmse:2.24185\n",
      "[102]\teval-rmse:2.26225\ttrain-rmse:2.22370\n",
      "[103]\teval-rmse:2.24541\ttrain-rmse:2.20582\n",
      "[104]\teval-rmse:2.22856\ttrain-rmse:2.18809\n",
      "[105]\teval-rmse:2.21213\ttrain-rmse:2.17059\n",
      "[106]\teval-rmse:2.19571\ttrain-rmse:2.15333\n",
      "[107]\teval-rmse:2.17966\ttrain-rmse:2.13624\n",
      "[108]\teval-rmse:2.16371\ttrain-rmse:2.11937\n",
      "[109]\teval-rmse:2.14804\ttrain-rmse:2.10268\n",
      "[110]\teval-rmse:2.13260\ttrain-rmse:2.08622\n",
      "[111]\teval-rmse:2.11736\ttrain-rmse:2.06995\n",
      "[112]\teval-rmse:2.10244\ttrain-rmse:2.05389\n",
      "[113]\teval-rmse:2.08771\ttrain-rmse:2.03804\n",
      "[114]\teval-rmse:2.07300\ttrain-rmse:2.02231\n",
      "[115]\teval-rmse:2.05856\ttrain-rmse:2.00682\n",
      "[116]\teval-rmse:2.04436\ttrain-rmse:1.99156\n",
      "[117]\teval-rmse:2.03006\ttrain-rmse:1.97643\n",
      "[118]\teval-rmse:2.01615\ttrain-rmse:1.96147\n",
      "[119]\teval-rmse:2.00240\ttrain-rmse:1.94671\n",
      "[120]\teval-rmse:1.98874\ttrain-rmse:1.93212\n",
      "[121]\teval-rmse:1.97537\ttrain-rmse:1.91777\n",
      "[122]\teval-rmse:1.96214\ttrain-rmse:1.90356\n",
      "[123]\teval-rmse:1.94911\ttrain-rmse:1.88952\n",
      "[124]\teval-rmse:1.93624\ttrain-rmse:1.87567\n",
      "[125]\teval-rmse:1.92359\ttrain-rmse:1.86199\n",
      "[126]\teval-rmse:1.91105\ttrain-rmse:1.84850\n",
      "[127]\teval-rmse:1.89891\ttrain-rmse:1.83521\n",
      "[128]\teval-rmse:1.88683\ttrain-rmse:1.82204\n",
      "[129]\teval-rmse:1.87481\ttrain-rmse:1.80903\n",
      "[130]\teval-rmse:1.86299\ttrain-rmse:1.79616\n",
      "[131]\teval-rmse:1.85141\ttrain-rmse:1.78351\n",
      "[132]\teval-rmse:1.83987\ttrain-rmse:1.77100\n",
      "[133]\teval-rmse:1.82868\ttrain-rmse:1.75866\n",
      "[134]\teval-rmse:1.81765\ttrain-rmse:1.74650\n",
      "[135]\teval-rmse:1.80675\ttrain-rmse:1.73448\n",
      "[136]\teval-rmse:1.79579\ttrain-rmse:1.72258\n",
      "[137]\teval-rmse:1.78511\ttrain-rmse:1.71082\n",
      "[138]\teval-rmse:1.77470\ttrain-rmse:1.69930\n",
      "[139]\teval-rmse:1.76424\ttrain-rmse:1.68792\n",
      "[140]\teval-rmse:1.75402\ttrain-rmse:1.67664\n",
      "[141]\teval-rmse:1.74387\ttrain-rmse:1.66551\n",
      "[142]\teval-rmse:1.73397\ttrain-rmse:1.65454\n",
      "[143]\teval-rmse:1.72429\ttrain-rmse:1.64374\n",
      "[144]\teval-rmse:1.71474\ttrain-rmse:1.63310\n",
      "[145]\teval-rmse:1.70524\ttrain-rmse:1.62252\n",
      "[146]\teval-rmse:1.69590\ttrain-rmse:1.61216\n",
      "[147]\teval-rmse:1.68670\ttrain-rmse:1.60188\n",
      "[148]\teval-rmse:1.67766\ttrain-rmse:1.59178\n",
      "[149]\teval-rmse:1.66861\ttrain-rmse:1.58181\n",
      "[150]\teval-rmse:1.65968\ttrain-rmse:1.57198\n",
      "[151]\teval-rmse:1.65111\ttrain-rmse:1.56227\n",
      "[152]\teval-rmse:1.64264\ttrain-rmse:1.55269\n",
      "[153]\teval-rmse:1.63420\ttrain-rmse:1.54322\n",
      "[154]\teval-rmse:1.62604\ttrain-rmse:1.53395\n",
      "[155]\teval-rmse:1.61782\ttrain-rmse:1.52474\n",
      "[156]\teval-rmse:1.60987\ttrain-rmse:1.51567\n",
      "[157]\teval-rmse:1.60187\ttrain-rmse:1.50673\n",
      "[158]\teval-rmse:1.59402\ttrain-rmse:1.49787\n",
      "[159]\teval-rmse:1.58639\ttrain-rmse:1.48920\n",
      "[160]\teval-rmse:1.57882\ttrain-rmse:1.48061\n",
      "[161]\teval-rmse:1.57140\ttrain-rmse:1.47216\n",
      "[162]\teval-rmse:1.56412\ttrain-rmse:1.46385\n",
      "[163]\teval-rmse:1.55705\ttrain-rmse:1.45567\n",
      "[164]\teval-rmse:1.54988\ttrain-rmse:1.44754\n",
      "[165]\teval-rmse:1.54301\ttrain-rmse:1.43961\n",
      "[166]\teval-rmse:1.53626\ttrain-rmse:1.43178\n",
      "[167]\teval-rmse:1.52939\ttrain-rmse:1.42405\n",
      "[168]\teval-rmse:1.52272\ttrain-rmse:1.41645\n",
      "[169]\teval-rmse:1.51621\ttrain-rmse:1.40894\n",
      "[170]\teval-rmse:1.50968\ttrain-rmse:1.40153\n",
      "[171]\teval-rmse:1.50334\ttrain-rmse:1.39423\n",
      "[172]\teval-rmse:1.49714\ttrain-rmse:1.38702\n",
      "[173]\teval-rmse:1.49095\ttrain-rmse:1.37992\n",
      "[174]\teval-rmse:1.48492\ttrain-rmse:1.37294\n",
      "[175]\teval-rmse:1.47890\ttrain-rmse:1.36603\n",
      "[176]\teval-rmse:1.47301\ttrain-rmse:1.35926\n",
      "[177]\teval-rmse:1.46738\ttrain-rmse:1.35260\n",
      "[178]\teval-rmse:1.46175\ttrain-rmse:1.34603\n",
      "[179]\teval-rmse:1.45627\ttrain-rmse:1.33956\n",
      "[180]\teval-rmse:1.45080\ttrain-rmse:1.33321\n",
      "[181]\teval-rmse:1.44543\ttrain-rmse:1.32692\n",
      "[182]\teval-rmse:1.44018\ttrain-rmse:1.32075\n",
      "[183]\teval-rmse:1.43494\ttrain-rmse:1.31465\n",
      "[184]\teval-rmse:1.42991\ttrain-rmse:1.30865\n",
      "[185]\teval-rmse:1.42478\ttrain-rmse:1.30266\n",
      "[186]\teval-rmse:1.41985\ttrain-rmse:1.29683\n",
      "[187]\teval-rmse:1.41497\ttrain-rmse:1.29111\n",
      "[188]\teval-rmse:1.41023\ttrain-rmse:1.28543\n",
      "[189]\teval-rmse:1.40552\ttrain-rmse:1.27982\n",
      "[190]\teval-rmse:1.40098\ttrain-rmse:1.27435\n",
      "[191]\teval-rmse:1.39641\ttrain-rmse:1.26897\n",
      "[192]\teval-rmse:1.39201\ttrain-rmse:1.26366\n",
      "[193]\teval-rmse:1.38767\ttrain-rmse:1.25847\n"
     ]
    },
    {
     "name": "stdout",
     "output_type": "stream",
     "text": [
      "[194]\teval-rmse:1.38326\ttrain-rmse:1.25333\n",
      "[195]\teval-rmse:1.37908\ttrain-rmse:1.24829\n",
      "[196]\teval-rmse:1.37487\ttrain-rmse:1.24328\n",
      "[197]\teval-rmse:1.37083\ttrain-rmse:1.23840\n",
      "[198]\teval-rmse:1.36677\ttrain-rmse:1.23360\n",
      "[199]\teval-rmse:1.36288\ttrain-rmse:1.22881\n"
     ]
    }
   ],
   "source": [
    "model=xgb.train(xgb_params, train, 200, eval_list)"
   ]
  },
  {
   "cell_type": "code",
   "execution_count": 57,
   "metadata": {
    "scrolled": false
   },
   "outputs": [
    {
     "data": {
      "image/svg+xml": [
       "<?xml version=\"1.0\" encoding=\"UTF-8\" standalone=\"no\"?>\n",
       "<!DOCTYPE svg PUBLIC \"-//W3C//DTD SVG 1.1//EN\"\n",
       " \"http://www.w3.org/Graphics/SVG/1.1/DTD/svg11.dtd\">\n",
       "<!-- Generated by graphviz version 2.40.1 (20161225.0304)\n",
       " -->\n",
       "<!-- Title: %3 Pages: 1 -->\n",
       "<svg width=\"1732pt\" height=\"479pt\"\n",
       " viewBox=\"0.00 0.00 1732.34 479.00\" xmlns=\"http://www.w3.org/2000/svg\" xmlns:xlink=\"http://www.w3.org/1999/xlink\">\n",
       "<g id=\"graph0\" class=\"graph\" transform=\"scale(1 1) rotate(0) translate(4 475)\">\n",
       "<title>%3</title>\n",
       "<polygon fill=\"#ffffff\" stroke=\"transparent\" points=\"-4,4 -4,-475 1728.3362,-475 1728.3362,4 -4,4\"/>\n",
       "<!-- 0 -->\n",
       "<g id=\"node1\" class=\"node\">\n",
       "<title>0</title>\n",
       "<ellipse fill=\"none\" stroke=\"#000000\" cx=\"974.9429\" cy=\"-453\" rx=\"63.8893\" ry=\"18\"/>\n",
       "<text text-anchor=\"middle\" x=\"974.9429\" y=\"-449.3\" font-family=\"Times,serif\" font-size=\"14.00\" fill=\"#000000\">runtime&lt;102.5</text>\n",
       "</g>\n",
       "<!-- 1 -->\n",
       "<g id=\"node2\" class=\"node\">\n",
       "<title>1</title>\n",
       "<ellipse fill=\"none\" stroke=\"#000000\" cx=\"784.9429\" cy=\"-366\" rx=\"59.5901\" ry=\"18\"/>\n",
       "<text text-anchor=\"middle\" x=\"784.9429\" y=\"-362.3\" font-family=\"Times,serif\" font-size=\"14.00\" fill=\"#000000\">runtime&lt;76.5</text>\n",
       "</g>\n",
       "<!-- 0&#45;&gt;1 -->\n",
       "<g id=\"edge1\" class=\"edge\">\n",
       "<title>0&#45;&gt;1</title>\n",
       "<path fill=\"none\" stroke=\"#0000ff\" d=\"M941.4121,-437.6464C909.5693,-423.0658 861.5796,-401.0916 827.1479,-385.3255\"/>\n",
       "<polygon fill=\"#0000ff\" stroke=\"#0000ff\" points=\"828.3699,-382.0356 817.8206,-381.0545 825.4556,-388.4001 828.3699,-382.0356\"/>\n",
       "<text text-anchor=\"middle\" x=\"926.4429\" y=\"-405.8\" font-family=\"Times,serif\" font-size=\"14.00\" fill=\"#000000\">yes, missing</text>\n",
       "</g>\n",
       "<!-- 2 -->\n",
       "<g id=\"node3\" class=\"node\">\n",
       "<title>2</title>\n",
       "<ellipse fill=\"none\" stroke=\"#000000\" cx=\"1185.9429\" cy=\"-366\" rx=\"63.8893\" ry=\"18\"/>\n",
       "<text text-anchor=\"middle\" x=\"1185.9429\" y=\"-362.3\" font-family=\"Times,serif\" font-size=\"14.00\" fill=\"#000000\">runtime&lt;120.5</text>\n",
       "</g>\n",
       "<!-- 0&#45;&gt;2 -->\n",
       "<g id=\"edge2\" class=\"edge\">\n",
       "<title>0&#45;&gt;2</title>\n",
       "<path fill=\"none\" stroke=\"#ff0000\" d=\"M1011.2151,-438.0442C1046.952,-423.309 1101.6633,-400.7504 1140.3285,-384.8078\"/>\n",
       "<polygon fill=\"#ff0000\" stroke=\"#ff0000\" points=\"1141.8808,-387.9537 1149.7916,-380.906 1139.2124,-381.4822 1141.8808,-387.9537\"/>\n",
       "<text text-anchor=\"middle\" x=\"1100.9429\" y=\"-405.8\" font-family=\"Times,serif\" font-size=\"14.00\" fill=\"#000000\">no</text>\n",
       "</g>\n",
       "<!-- 3 -->\n",
       "<g id=\"node4\" class=\"node\">\n",
       "<title>3</title>\n",
       "<ellipse fill=\"none\" stroke=\"#000000\" cx=\"257.9429\" cy=\"-279\" rx=\"55.4913\" ry=\"18\"/>\n",
       "<text text-anchor=\"middle\" x=\"257.9429\" y=\"-275.3\" font-family=\"Times,serif\" font-size=\"14.00\" fill=\"#000000\">runtime&lt;2.5</text>\n",
       "</g>\n",
       "<!-- 1&#45;&gt;3 -->\n",
       "<g id=\"edge3\" class=\"edge\">\n",
       "<title>1&#45;&gt;3</title>\n",
       "<path fill=\"none\" stroke=\"#ff0000\" d=\"M732.4855,-357.34C633.8437,-341.0557 421.329,-305.9727 317.4919,-288.8307\"/>\n",
       "<polygon fill=\"#ff0000\" stroke=\"#ff0000\" points=\"317.925,-285.3549 307.4885,-287.1792 316.7848,-292.2614 317.925,-285.3549\"/>\n",
       "<text text-anchor=\"middle\" x=\"563.4429\" y=\"-318.8\" font-family=\"Times,serif\" font-size=\"14.00\" fill=\"#000000\">yes</text>\n",
       "</g>\n",
       "<!-- 4 -->\n",
       "<g id=\"node5\" class=\"node\">\n",
       "<title>4</title>\n",
       "<ellipse fill=\"none\" stroke=\"#000000\" cx=\"784.9429\" cy=\"-279\" rx=\"59.5901\" ry=\"18\"/>\n",
       "<text text-anchor=\"middle\" x=\"784.9429\" y=\"-275.3\" font-family=\"Times,serif\" font-size=\"14.00\" fill=\"#000000\">runtime&lt;95.5</text>\n",
       "</g>\n",
       "<!-- 1&#45;&gt;4 -->\n",
       "<g id=\"edge4\" class=\"edge\">\n",
       "<title>1&#45;&gt;4</title>\n",
       "<path fill=\"none\" stroke=\"#0000ff\" d=\"M784.9429,-347.9735C784.9429,-336.1918 784.9429,-320.5607 784.9429,-307.1581\"/>\n",
       "<polygon fill=\"#0000ff\" stroke=\"#0000ff\" points=\"788.443,-307.0033 784.9429,-297.0034 781.443,-307.0034 788.443,-307.0033\"/>\n",
       "<text text-anchor=\"middle\" x=\"816.9429\" y=\"-318.8\" font-family=\"Times,serif\" font-size=\"14.00\" fill=\"#000000\">no, missing</text>\n",
       "</g>\n",
       "<!-- 5 -->\n",
       "<g id=\"node20\" class=\"node\">\n",
       "<title>5</title>\n",
       "<ellipse fill=\"none\" stroke=\"#000000\" cx=\"1185.9429\" cy=\"-279\" rx=\"75.2868\" ry=\"18\"/>\n",
       "<text text-anchor=\"middle\" x=\"1185.9429\" y=\"-275.3\" font-family=\"Times,serif\" font-size=\"14.00\" fill=\"#000000\">budget&lt;21750000</text>\n",
       "</g>\n",
       "<!-- 2&#45;&gt;5 -->\n",
       "<g id=\"edge19\" class=\"edge\">\n",
       "<title>2&#45;&gt;5</title>\n",
       "<path fill=\"none\" stroke=\"#ff0000\" d=\"M1185.9429,-347.9735C1185.9429,-336.1918 1185.9429,-320.5607 1185.9429,-307.1581\"/>\n",
       "<polygon fill=\"#ff0000\" stroke=\"#ff0000\" points=\"1189.443,-307.0033 1185.9429,-297.0034 1182.443,-307.0034 1189.443,-307.0033\"/>\n",
       "<text text-anchor=\"middle\" x=\"1195.4429\" y=\"-318.8\" font-family=\"Times,serif\" font-size=\"14.00\" fill=\"#000000\">yes</text>\n",
       "</g>\n",
       "<!-- 6 -->\n",
       "<g id=\"node21\" class=\"node\">\n",
       "<title>6</title>\n",
       "<ellipse fill=\"none\" stroke=\"#000000\" cx=\"1475.9429\" cy=\"-279\" rx=\"94.4839\" ry=\"18\"/>\n",
       "<text text-anchor=\"middle\" x=\"1475.9429\" y=\"-275.3\" font-family=\"Times,serif\" font-size=\"14.00\" fill=\"#000000\">popularity&lt;2.59287691</text>\n",
       "</g>\n",
       "<!-- 2&#45;&gt;6 -->\n",
       "<g id=\"edge20\" class=\"edge\">\n",
       "<title>2&#45;&gt;6</title>\n",
       "<path fill=\"none\" stroke=\"#0000ff\" d=\"M1229.6728,-352.881C1279.1553,-338.0363 1360.0653,-313.7633 1415.5516,-297.1174\"/>\n",
       "<polygon fill=\"#0000ff\" stroke=\"#0000ff\" points=\"1416.6862,-300.4312 1425.2587,-294.2053 1414.6747,-293.7264 1416.6862,-300.4312\"/>\n",
       "<text text-anchor=\"middle\" x=\"1380.9429\" y=\"-318.8\" font-family=\"Times,serif\" font-size=\"14.00\" fill=\"#000000\">no, missing</text>\n",
       "</g>\n",
       "<!-- 7 -->\n",
       "<g id=\"node6\" class=\"node\">\n",
       "<title>7</title>\n",
       "<ellipse fill=\"none\" stroke=\"#000000\" cx=\"99.9429\" cy=\"-192\" rx=\"79.8859\" ry=\"18\"/>\n",
       "<text text-anchor=\"middle\" x=\"99.9429\" y=\"-188.3\" font-family=\"Times,serif\" font-size=\"14.00\" fill=\"#000000\">leaf=0.0523726679</text>\n",
       "</g>\n",
       "<!-- 3&#45;&gt;7 -->\n",
       "<g id=\"edge5\" class=\"edge\">\n",
       "<title>3&#45;&gt;7</title>\n",
       "<path fill=\"none\" stroke=\"#ff0000\" d=\"M229.6957,-263.4461C204.466,-249.5538 167.2598,-229.0669 139.1504,-213.589\"/>\n",
       "<polygon fill=\"#ff0000\" stroke=\"#ff0000\" points=\"140.8184,-210.5119 130.3704,-208.7544 137.442,-216.6438 140.8184,-210.5119\"/>\n",
       "<text text-anchor=\"middle\" x=\"198.4429\" y=\"-231.8\" font-family=\"Times,serif\" font-size=\"14.00\" fill=\"#000000\">yes</text>\n",
       "</g>\n",
       "<!-- 8 -->\n",
       "<g id=\"node7\" class=\"node\">\n",
       "<title>8</title>\n",
       "<ellipse fill=\"none\" stroke=\"#000000\" cx=\"257.9429\" cy=\"-192\" rx=\"59.5901\" ry=\"18\"/>\n",
       "<text text-anchor=\"middle\" x=\"257.9429\" y=\"-188.3\" font-family=\"Times,serif\" font-size=\"14.00\" fill=\"#000000\">runtime&lt;63.5</text>\n",
       "</g>\n",
       "<!-- 3&#45;&gt;8 -->\n",
       "<g id=\"edge6\" class=\"edge\">\n",
       "<title>3&#45;&gt;8</title>\n",
       "<path fill=\"none\" stroke=\"#0000ff\" d=\"M257.9429,-260.9735C257.9429,-249.1918 257.9429,-233.5607 257.9429,-220.1581\"/>\n",
       "<polygon fill=\"#0000ff\" stroke=\"#0000ff\" points=\"261.443,-220.0033 257.9429,-210.0034 254.443,-220.0034 261.443,-220.0033\"/>\n",
       "<text text-anchor=\"middle\" x=\"289.9429\" y=\"-231.8\" font-family=\"Times,serif\" font-size=\"14.00\" fill=\"#000000\">no, missing</text>\n",
       "</g>\n",
       "<!-- 9 -->\n",
       "<g id=\"node12\" class=\"node\">\n",
       "<title>9</title>\n",
       "<ellipse fill=\"none\" stroke=\"#000000\" cx=\"700.9429\" cy=\"-192\" rx=\"89.8845\" ry=\"18\"/>\n",
       "<text text-anchor=\"middle\" x=\"700.9429\" y=\"-188.3\" font-family=\"Times,serif\" font-size=\"14.00\" fill=\"#000000\">popularity&lt;8.2756834</text>\n",
       "</g>\n",
       "<!-- 4&#45;&gt;9 -->\n",
       "<g id=\"edge11\" class=\"edge\">\n",
       "<title>4&#45;&gt;9</title>\n",
       "<path fill=\"none\" stroke=\"#0000ff\" d=\"M767.9443,-261.3943C755.7287,-248.7424 739.0767,-231.4957 725.4298,-217.3614\"/>\n",
       "<polygon fill=\"#0000ff\" stroke=\"#0000ff\" points=\"727.6685,-214.6411 718.2046,-209.8782 722.6326,-219.5033 727.6685,-214.6411\"/>\n",
       "<text text-anchor=\"middle\" x=\"783.4429\" y=\"-231.8\" font-family=\"Times,serif\" font-size=\"14.00\" fill=\"#000000\">yes, missing</text>\n",
       "</g>\n",
       "<!-- 10 -->\n",
       "<g id=\"node13\" class=\"node\">\n",
       "<title>10</title>\n",
       "<ellipse fill=\"none\" stroke=\"#000000\" cx=\"888.9429\" cy=\"-192\" rx=\"79.8859\" ry=\"18\"/>\n",
       "<text text-anchor=\"middle\" x=\"888.9429\" y=\"-188.3\" font-family=\"Times,serif\" font-size=\"14.00\" fill=\"#000000\">leaf=0.0549589768</text>\n",
       "</g>\n",
       "<!-- 4&#45;&gt;10 -->\n",
       "<g id=\"edge12\" class=\"edge\">\n",
       "<title>4&#45;&gt;10</title>\n",
       "<path fill=\"none\" stroke=\"#ff0000\" d=\"M805.49,-261.8116C821.0569,-248.7893 842.6477,-230.7277 859.968,-216.2386\"/>\n",
       "<polygon fill=\"#ff0000\" stroke=\"#ff0000\" points=\"862.6582,-218.5514 868.0826,-209.4505 858.1667,-213.1823 862.6582,-218.5514\"/>\n",
       "<text text-anchor=\"middle\" x=\"850.9429\" y=\"-231.8\" font-family=\"Times,serif\" font-size=\"14.00\" fill=\"#000000\">no</text>\n",
       "</g>\n",
       "<!-- 15 -->\n",
       "<g id=\"node8\" class=\"node\">\n",
       "<title>15</title>\n",
       "<ellipse fill=\"none\" stroke=\"#000000\" cx=\"93.9429\" cy=\"-105\" rx=\"79.8859\" ry=\"18\"/>\n",
       "<text text-anchor=\"middle\" x=\"93.9429\" y=\"-101.3\" font-family=\"Times,serif\" font-size=\"14.00\" fill=\"#000000\">leaf=0.0611521229</text>\n",
       "</g>\n",
       "<!-- 8&#45;&gt;15 -->\n",
       "<g id=\"edge7\" class=\"edge\">\n",
       "<title>8&#45;&gt;15</title>\n",
       "<path fill=\"none\" stroke=\"#ff0000\" d=\"M228.2437,-176.245C202.0071,-162.3267 163.5103,-141.9047 134.4519,-126.4895\"/>\n",
       "<polygon fill=\"#ff0000\" stroke=\"#ff0000\" points=\"135.8507,-123.2696 125.3765,-121.6752 132.5703,-129.4534 135.8507,-123.2696\"/>\n",
       "<text text-anchor=\"middle\" x=\"195.4429\" y=\"-144.8\" font-family=\"Times,serif\" font-size=\"14.00\" fill=\"#000000\">yes</text>\n",
       "</g>\n",
       "<!-- 16 -->\n",
       "<g id=\"node9\" class=\"node\">\n",
       "<title>16</title>\n",
       "<ellipse fill=\"none\" stroke=\"#000000\" cx=\"257.9429\" cy=\"-105\" rx=\"66.0889\" ry=\"18\"/>\n",
       "<text text-anchor=\"middle\" x=\"257.9429\" y=\"-101.3\" font-family=\"Times,serif\" font-size=\"14.00\" fill=\"#000000\">budget&lt;151000</text>\n",
       "</g>\n",
       "<!-- 8&#45;&gt;16 -->\n",
       "<g id=\"edge8\" class=\"edge\">\n",
       "<title>8&#45;&gt;16</title>\n",
       "<path fill=\"none\" stroke=\"#0000ff\" d=\"M257.9429,-173.9735C257.9429,-162.1918 257.9429,-146.5607 257.9429,-133.1581\"/>\n",
       "<polygon fill=\"#0000ff\" stroke=\"#0000ff\" points=\"261.443,-133.0033 257.9429,-123.0034 254.443,-133.0034 261.443,-133.0033\"/>\n",
       "<text text-anchor=\"middle\" x=\"289.9429\" y=\"-144.8\" font-family=\"Times,serif\" font-size=\"14.00\" fill=\"#000000\">no, missing</text>\n",
       "</g>\n",
       "<!-- 23 -->\n",
       "<g id=\"node10\" class=\"node\">\n",
       "<title>23</title>\n",
       "<ellipse fill=\"none\" stroke=\"#000000\" cx=\"79.9429\" cy=\"-18\" rx=\"79.8859\" ry=\"18\"/>\n",
       "<text text-anchor=\"middle\" x=\"79.9429\" y=\"-14.3\" font-family=\"Times,serif\" font-size=\"14.00\" fill=\"#000000\">leaf=0.0469534881</text>\n",
       "</g>\n",
       "<!-- 16&#45;&gt;23 -->\n",
       "<g id=\"edge9\" class=\"edge\">\n",
       "<title>16&#45;&gt;23</title>\n",
       "<path fill=\"none\" stroke=\"#ff0000\" d=\"M225.7084,-89.245C196.8031,-75.1171 154.1873,-54.288 122.4919,-38.7964\"/>\n",
       "<polygon fill=\"#ff0000\" stroke=\"#ff0000\" points=\"123.9699,-35.6232 113.4487,-34.3764 120.896,-41.9122 123.9699,-35.6232\"/>\n",
       "<text text-anchor=\"middle\" x=\"189.4429\" y=\"-57.8\" font-family=\"Times,serif\" font-size=\"14.00\" fill=\"#000000\">yes</text>\n",
       "</g>\n",
       "<!-- 24 -->\n",
       "<g id=\"node11\" class=\"node\">\n",
       "<title>24</title>\n",
       "<ellipse fill=\"none\" stroke=\"#000000\" cx=\"257.9429\" cy=\"-18\" rx=\"79.8859\" ry=\"18\"/>\n",
       "<text text-anchor=\"middle\" x=\"257.9429\" y=\"-14.3\" font-family=\"Times,serif\" font-size=\"14.00\" fill=\"#000000\">leaf=0.0567276366</text>\n",
       "</g>\n",
       "<!-- 16&#45;&gt;24 -->\n",
       "<g id=\"edge10\" class=\"edge\">\n",
       "<title>16&#45;&gt;24</title>\n",
       "<path fill=\"none\" stroke=\"#0000ff\" d=\"M257.9429,-86.9735C257.9429,-75.1918 257.9429,-59.5607 257.9429,-46.1581\"/>\n",
       "<polygon fill=\"#0000ff\" stroke=\"#0000ff\" points=\"261.443,-46.0033 257.9429,-36.0034 254.443,-46.0034 261.443,-46.0033\"/>\n",
       "<text text-anchor=\"middle\" x=\"289.9429\" y=\"-57.8\" font-family=\"Times,serif\" font-size=\"14.00\" fill=\"#000000\">no, missing</text>\n",
       "</g>\n",
       "<!-- 17 -->\n",
       "<g id=\"node14\" class=\"node\">\n",
       "<title>17</title>\n",
       "<ellipse fill=\"none\" stroke=\"#000000\" cx=\"600.9429\" cy=\"-105\" rx=\"70.6878\" ry=\"18\"/>\n",
       "<text text-anchor=\"middle\" x=\"600.9429\" y=\"-101.3\" font-family=\"Times,serif\" font-size=\"14.00\" fill=\"#000000\">budget&lt;1993825</text>\n",
       "</g>\n",
       "<!-- 9&#45;&gt;17 -->\n",
       "<g id=\"edge13\" class=\"edge\">\n",
       "<title>9&#45;&gt;17</title>\n",
       "<path fill=\"none\" stroke=\"#0000ff\" d=\"M678.2481,-174.3717C671.0272,-168.6233 663.0676,-162.1389 655.9429,-156 646.1549,-147.5663 635.6923,-138.0091 626.5483,-129.4661\"/>\n",
       "<polygon fill=\"#0000ff\" stroke=\"#0000ff\" points=\"628.9038,-126.8766 619.2213,-122.5755 624.1082,-131.9759 628.9038,-126.8766\"/>\n",
       "<text text-anchor=\"middle\" x=\"690.4429\" y=\"-144.8\" font-family=\"Times,serif\" font-size=\"14.00\" fill=\"#000000\">yes, missing</text>\n",
       "</g>\n",
       "<!-- 18 -->\n",
       "<g id=\"node15\" class=\"node\">\n",
       "<title>18</title>\n",
       "<ellipse fill=\"none\" stroke=\"#000000\" cx=\"762.9429\" cy=\"-105\" rx=\"70.6878\" ry=\"18\"/>\n",
       "<text text-anchor=\"middle\" x=\"762.9429\" y=\"-101.3\" font-family=\"Times,serif\" font-size=\"14.00\" fill=\"#000000\">budget&lt;1900000</text>\n",
       "</g>\n",
       "<!-- 9&#45;&gt;18 -->\n",
       "<g id=\"edge14\" class=\"edge\">\n",
       "<title>9&#45;&gt;18</title>\n",
       "<path fill=\"none\" stroke=\"#ff0000\" d=\"M713.7893,-173.9735C722.6012,-161.6085 734.4346,-145.0036 744.2825,-131.1847\"/>\n",
       "<polygon fill=\"#ff0000\" stroke=\"#ff0000\" points=\"747.1596,-133.1783 750.1129,-123.0034 741.4591,-129.1158 747.1596,-133.1783\"/>\n",
       "<text text-anchor=\"middle\" x=\"742.9429\" y=\"-144.8\" font-family=\"Times,serif\" font-size=\"14.00\" fill=\"#000000\">no</text>\n",
       "</g>\n",
       "<!-- 25 -->\n",
       "<g id=\"node16\" class=\"node\">\n",
       "<title>25</title>\n",
       "<ellipse fill=\"none\" stroke=\"#000000\" cx=\"435.9429\" cy=\"-18\" rx=\"79.8859\" ry=\"18\"/>\n",
       "<text text-anchor=\"middle\" x=\"435.9429\" y=\"-14.3\" font-family=\"Times,serif\" font-size=\"14.00\" fill=\"#000000\">leaf=0.0529365465</text>\n",
       "</g>\n",
       "<!-- 17&#45;&gt;25 -->\n",
       "<g id=\"edge15\" class=\"edge\">\n",
       "<title>17&#45;&gt;25</title>\n",
       "<path fill=\"none\" stroke=\"#0000ff\" d=\"M567.7041,-89.0258C555.1743,-82.8949 540.8384,-75.749 527.9429,-69 510.1953,-59.7115 490.7665,-49.0199 474.3553,-39.8327\"/>\n",
       "<polygon fill=\"#0000ff\" stroke=\"#0000ff\" points=\"476.011,-36.7484 465.5783,-34.902 472.5825,-42.8513 476.011,-36.7484\"/>\n",
       "<text text-anchor=\"middle\" x=\"562.4429\" y=\"-57.8\" font-family=\"Times,serif\" font-size=\"14.00\" fill=\"#000000\">yes, missing</text>\n",
       "</g>\n",
       "<!-- 26 -->\n",
       "<g id=\"node17\" class=\"node\">\n",
       "<title>26</title>\n",
       "<ellipse fill=\"none\" stroke=\"#000000\" cx=\"600.9429\" cy=\"-18\" rx=\"66.8882\" ry=\"18\"/>\n",
       "<text text-anchor=\"middle\" x=\"600.9429\" y=\"-14.3\" font-family=\"Times,serif\" font-size=\"14.00\" fill=\"#000000\">leaf=0.0488481</text>\n",
       "</g>\n",
       "<!-- 17&#45;&gt;26 -->\n",
       "<g id=\"edge16\" class=\"edge\">\n",
       "<title>17&#45;&gt;26</title>\n",
       "<path fill=\"none\" stroke=\"#ff0000\" d=\"M600.9429,-86.9735C600.9429,-75.1918 600.9429,-59.5607 600.9429,-46.1581\"/>\n",
       "<polygon fill=\"#ff0000\" stroke=\"#ff0000\" points=\"604.443,-46.0033 600.9429,-36.0034 597.443,-46.0034 604.443,-46.0033\"/>\n",
       "<text text-anchor=\"middle\" x=\"607.9429\" y=\"-57.8\" font-family=\"Times,serif\" font-size=\"14.00\" fill=\"#000000\">no</text>\n",
       "</g>\n",
       "<!-- 27 -->\n",
       "<g id=\"node18\" class=\"node\">\n",
       "<title>27</title>\n",
       "<ellipse fill=\"none\" stroke=\"#000000\" cx=\"765.9429\" cy=\"-18\" rx=\"79.8859\" ry=\"18\"/>\n",
       "<text text-anchor=\"middle\" x=\"765.9429\" y=\"-14.3\" font-family=\"Times,serif\" font-size=\"14.00\" fill=\"#000000\">leaf=0.0607142858</text>\n",
       "</g>\n",
       "<!-- 18&#45;&gt;27 -->\n",
       "<g id=\"edge17\" class=\"edge\">\n",
       "<title>18&#45;&gt;27</title>\n",
       "<path fill=\"none\" stroke=\"#ff0000\" d=\"M763.5645,-86.9735C763.9708,-75.1918 764.5098,-59.5607 764.9719,-46.1581\"/>\n",
       "<polygon fill=\"#ff0000\" stroke=\"#ff0000\" points=\"768.4753,-46.1181 765.3221,-36.0034 761.4795,-45.8768 768.4753,-46.1181\"/>\n",
       "<text text-anchor=\"middle\" x=\"774.4429\" y=\"-57.8\" font-family=\"Times,serif\" font-size=\"14.00\" fill=\"#000000\">yes</text>\n",
       "</g>\n",
       "<!-- 28 -->\n",
       "<g id=\"node19\" class=\"node\">\n",
       "<title>28</title>\n",
       "<ellipse fill=\"none\" stroke=\"#000000\" cx=\"943.9429\" cy=\"-18\" rx=\"79.8859\" ry=\"18\"/>\n",
       "<text text-anchor=\"middle\" x=\"943.9429\" y=\"-14.3\" font-family=\"Times,serif\" font-size=\"14.00\" fill=\"#000000\">leaf=0.0542915203</text>\n",
       "</g>\n",
       "<!-- 18&#45;&gt;28 -->\n",
       "<g id=\"edge18\" class=\"edge\">\n",
       "<title>18&#45;&gt;28</title>\n",
       "<path fill=\"none\" stroke=\"#0000ff\" d=\"M796.1411,-89.0429C825.4936,-74.9342 868.508,-54.2588 900.5733,-38.8461\"/>\n",
       "<polygon fill=\"#0000ff\" stroke=\"#0000ff\" points=\"902.2287,-41.9339 909.7253,-34.4471 899.1961,-35.6248 902.2287,-41.9339\"/>\n",
       "<text text-anchor=\"middle\" x=\"896.9429\" y=\"-57.8\" font-family=\"Times,serif\" font-size=\"14.00\" fill=\"#000000\">no, missing</text>\n",
       "</g>\n",
       "<!-- 11 -->\n",
       "<g id=\"node22\" class=\"node\">\n",
       "<title>11</title>\n",
       "<ellipse fill=\"none\" stroke=\"#000000\" cx=\"1085.9429\" cy=\"-192\" rx=\"94.4839\" ry=\"18\"/>\n",
       "<text text-anchor=\"middle\" x=\"1085.9429\" y=\"-188.3\" font-family=\"Times,serif\" font-size=\"14.00\" fill=\"#000000\">popularity&lt;3.42702913</text>\n",
       "</g>\n",
       "<!-- 5&#45;&gt;11 -->\n",
       "<g id=\"edge21\" class=\"edge\">\n",
       "<title>5&#45;&gt;11</title>\n",
       "<path fill=\"none\" stroke=\"#0000ff\" d=\"M1164.2693,-261.647C1157.0952,-255.8026 1149.1148,-249.1921 1141.9429,-243 1132.1451,-234.5407 1121.6023,-225.0463 1112.336,-216.5635\"/>\n",
       "<polygon fill=\"#0000ff\" stroke=\"#0000ff\" points=\"1114.6264,-213.9148 1104.897,-209.7209 1109.8875,-219.0668 1114.6264,-213.9148\"/>\n",
       "<text text-anchor=\"middle\" x=\"1176.4429\" y=\"-231.8\" font-family=\"Times,serif\" font-size=\"14.00\" fill=\"#000000\">yes, missing</text>\n",
       "</g>\n",
       "<!-- 12 -->\n",
       "<g id=\"node23\" class=\"node\">\n",
       "<title>12</title>\n",
       "<ellipse fill=\"none\" stroke=\"#000000\" cx=\"1287.9429\" cy=\"-192\" rx=\"89.8845\" ry=\"18\"/>\n",
       "<text text-anchor=\"middle\" x=\"1287.9429\" y=\"-188.3\" font-family=\"Times,serif\" font-size=\"14.00\" fill=\"#000000\">popularity&lt;5.5134573</text>\n",
       "</g>\n",
       "<!-- 5&#45;&gt;12 -->\n",
       "<g id=\"edge22\" class=\"edge\">\n",
       "<title>5&#45;&gt;12</title>\n",
       "<path fill=\"none\" stroke=\"#ff0000\" d=\"M1206.5841,-261.3943C1221.7921,-248.4228 1242.6627,-230.6213 1259.4577,-216.2962\"/>\n",
       "<polygon fill=\"#ff0000\" stroke=\"#ff0000\" points=\"1261.9953,-218.732 1267.3324,-209.5796 1257.4527,-213.4061 1261.9953,-218.732\"/>\n",
       "<text text-anchor=\"middle\" x=\"1250.9429\" y=\"-231.8\" font-family=\"Times,serif\" font-size=\"14.00\" fill=\"#000000\">no</text>\n",
       "</g>\n",
       "<!-- 13 -->\n",
       "<g id=\"node28\" class=\"node\">\n",
       "<title>13</title>\n",
       "<ellipse fill=\"none\" stroke=\"#000000\" cx=\"1475.9429\" cy=\"-192\" rx=\"79.8859\" ry=\"18\"/>\n",
       "<text text-anchor=\"middle\" x=\"1475.9429\" y=\"-188.3\" font-family=\"Times,serif\" font-size=\"14.00\" fill=\"#000000\">leaf=0.0592977889</text>\n",
       "</g>\n",
       "<!-- 6&#45;&gt;13 -->\n",
       "<g id=\"edge27\" class=\"edge\">\n",
       "<title>6&#45;&gt;13</title>\n",
       "<path fill=\"none\" stroke=\"#0000ff\" d=\"M1475.9429,-260.9735C1475.9429,-249.1918 1475.9429,-233.5607 1475.9429,-220.1581\"/>\n",
       "<polygon fill=\"#0000ff\" stroke=\"#0000ff\" points=\"1479.443,-220.0033 1475.9429,-210.0034 1472.443,-220.0034 1479.443,-220.0033\"/>\n",
       "<text text-anchor=\"middle\" x=\"1510.4429\" y=\"-231.8\" font-family=\"Times,serif\" font-size=\"14.00\" fill=\"#000000\">yes, missing</text>\n",
       "</g>\n",
       "<!-- 14 -->\n",
       "<g id=\"node29\" class=\"node\">\n",
       "<title>14</title>\n",
       "<ellipse fill=\"none\" stroke=\"#000000\" cx=\"1648.9429\" cy=\"-192\" rx=\"75.2868\" ry=\"18\"/>\n",
       "<text text-anchor=\"middle\" x=\"1648.9429\" y=\"-188.3\" font-family=\"Times,serif\" font-size=\"14.00\" fill=\"#000000\">leaf=0.062880069</text>\n",
       "</g>\n",
       "<!-- 6&#45;&gt;14 -->\n",
       "<g id=\"edge28\" class=\"edge\">\n",
       "<title>6&#45;&gt;14</title>\n",
       "<path fill=\"none\" stroke=\"#ff0000\" d=\"M1510.5251,-262.0642C1522.6876,-256.0766 1536.438,-249.2718 1548.9429,-243 1568.3761,-233.2533 1589.8616,-222.3169 1607.9206,-213.0783\"/>\n",
       "<polygon fill=\"#ff0000\" stroke=\"#ff0000\" points=\"1609.7174,-216.0904 1617.023,-208.4171 1606.5268,-209.8598 1609.7174,-216.0904\"/>\n",
       "<text text-anchor=\"middle\" x=\"1582.9429\" y=\"-231.8\" font-family=\"Times,serif\" font-size=\"14.00\" fill=\"#000000\">no</text>\n",
       "</g>\n",
       "<!-- 19 -->\n",
       "<g id=\"node24\" class=\"node\">\n",
       "<title>19</title>\n",
       "<ellipse fill=\"none\" stroke=\"#000000\" cx=\"931.9429\" cy=\"-105\" rx=\"79.8859\" ry=\"18\"/>\n",
       "<text text-anchor=\"middle\" x=\"931.9429\" y=\"-101.3\" font-family=\"Times,serif\" font-size=\"14.00\" fill=\"#000000\">leaf=0.0574338809</text>\n",
       "</g>\n",
       "<!-- 11&#45;&gt;19 -->\n",
       "<g id=\"edge23\" class=\"edge\">\n",
       "<title>11&#45;&gt;19</title>\n",
       "<path fill=\"none\" stroke=\"#0000ff\" d=\"M1055.5175,-174.8116C1031.2098,-161.0794 996.9831,-141.7435 970.7123,-126.9022\"/>\n",
       "<polygon fill=\"#0000ff\" stroke=\"#0000ff\" points=\"972.2094,-123.7281 961.7811,-121.8567 968.7663,-129.8228 972.2094,-123.7281\"/>\n",
       "<text text-anchor=\"middle\" x=\"1053.4429\" y=\"-144.8\" font-family=\"Times,serif\" font-size=\"14.00\" fill=\"#000000\">yes, missing</text>\n",
       "</g>\n",
       "<!-- 20 -->\n",
       "<g id=\"node25\" class=\"node\">\n",
       "<title>20</title>\n",
       "<ellipse fill=\"none\" stroke=\"#000000\" cx=\"1109.9429\" cy=\"-105\" rx=\"79.8859\" ry=\"18\"/>\n",
       "<text text-anchor=\"middle\" x=\"1109.9429\" y=\"-101.3\" font-family=\"Times,serif\" font-size=\"14.00\" fill=\"#000000\">leaf=0.0597208329</text>\n",
       "</g>\n",
       "<!-- 11&#45;&gt;20 -->\n",
       "<g id=\"edge24\" class=\"edge\">\n",
       "<title>11&#45;&gt;20</title>\n",
       "<path fill=\"none\" stroke=\"#ff0000\" d=\"M1090.9157,-173.9735C1094.198,-162.0751 1098.5634,-146.2508 1102.2848,-132.7606\"/>\n",
       "<polygon fill=\"#ff0000\" stroke=\"#ff0000\" points=\"1105.6911,-133.5741 1104.9765,-123.0034 1098.9431,-131.7125 1105.6911,-133.5741\"/>\n",
       "<text text-anchor=\"middle\" x=\"1106.9429\" y=\"-144.8\" font-family=\"Times,serif\" font-size=\"14.00\" fill=\"#000000\">no</text>\n",
       "</g>\n",
       "<!-- 21 -->\n",
       "<g id=\"node26\" class=\"node\">\n",
       "<title>21</title>\n",
       "<ellipse fill=\"none\" stroke=\"#000000\" cx=\"1287.9429\" cy=\"-105\" rx=\"79.8859\" ry=\"18\"/>\n",
       "<text text-anchor=\"middle\" x=\"1287.9429\" y=\"-101.3\" font-family=\"Times,serif\" font-size=\"14.00\" fill=\"#000000\">leaf=0.0495999977</text>\n",
       "</g>\n",
       "<!-- 12&#45;&gt;21 -->\n",
       "<g id=\"edge25\" class=\"edge\">\n",
       "<title>12&#45;&gt;21</title>\n",
       "<path fill=\"none\" stroke=\"#0000ff\" d=\"M1287.9429,-173.9735C1287.9429,-162.1918 1287.9429,-146.5607 1287.9429,-133.1581\"/>\n",
       "<polygon fill=\"#0000ff\" stroke=\"#0000ff\" points=\"1291.443,-133.0033 1287.9429,-123.0034 1284.443,-133.0034 1291.443,-133.0033\"/>\n",
       "<text text-anchor=\"middle\" x=\"1322.4429\" y=\"-144.8\" font-family=\"Times,serif\" font-size=\"14.00\" fill=\"#000000\">yes, missing</text>\n",
       "</g>\n",
       "<!-- 22 -->\n",
       "<g id=\"node27\" class=\"node\">\n",
       "<title>22</title>\n",
       "<ellipse fill=\"none\" stroke=\"#000000\" cx=\"1465.9429\" cy=\"-105\" rx=\"79.8859\" ry=\"18\"/>\n",
       "<text text-anchor=\"middle\" x=\"1465.9429\" y=\"-101.3\" font-family=\"Times,serif\" font-size=\"14.00\" fill=\"#000000\">leaf=0.0566133335</text>\n",
       "</g>\n",
       "<!-- 12&#45;&gt;22 -->\n",
       "<g id=\"edge26\" class=\"edge\">\n",
       "<title>12&#45;&gt;22</title>\n",
       "<path fill=\"none\" stroke=\"#ff0000\" d=\"M1322.2631,-175.2255C1351.011,-161.1746 1392.186,-141.0497 1423.0942,-125.9429\"/>\n",
       "<polygon fill=\"#ff0000\" stroke=\"#ff0000\" points=\"1424.8844,-128.9637 1432.3317,-121.4279 1421.8105,-122.6747 1424.8844,-128.9637\"/>\n",
       "<text text-anchor=\"middle\" x=\"1394.9429\" y=\"-144.8\" font-family=\"Times,serif\" font-size=\"14.00\" fill=\"#000000\">no</text>\n",
       "</g>\n",
       "</g>\n",
       "</svg>\n"
      ],
      "text/plain": [
       "<graphviz.files.Source at 0x7f2469d8f0f0>"
      ]
     },
     "execution_count": 57,
     "metadata": {},
     "output_type": "execute_result"
    }
   ],
   "source": [
    "xgb.to_graphviz(model)"
   ]
  },
  {
   "cell_type": "code",
   "execution_count": 58,
   "metadata": {},
   "outputs": [
    {
     "data": {
      "text/plain": [
       "<AxesSubplot:title={'center':'Feature importance'}, xlabel='F score', ylabel='Features'>"
      ]
     },
     "execution_count": 58,
     "metadata": {},
     "output_type": "execute_result"
    },
    {
     "data": {
      "image/png": "[encoded data removed]",
      "text/plain": [
       "<Figure size 432x288 with 1 Axes>"
      ]
     },
     "metadata": {
      "needs_background": "light"
     },
     "output_type": "display_data"
    }
   ],
   "source": [
    "xgb.plot_importance(model, importance_type='weight')"
   ]
  },
  {
   "cell_type": "markdown",
   "metadata": {},
   "source": [
    "### Use numeirc + categorical features\n",
    "\n",
    "Production companies and production countries are not suitable, since they have so many categories. We will only use genres."
   ]
  },
  {
   "cell_type": "code",
   "execution_count": 50,
   "metadata": {},
   "outputs": [],
   "source": [
    "# When using categorical features, we drop all those with missing values in genres\n",
    "numeric_features_name = ['Runtime', 'Budget', 'Revenue', 'Popularity']\n",
    "X_df_num_genres = X_df[numeric_features_name + ['genres']]\n",
    "nan_mask = X_df_num_genres['genres'].isna()\n",
    "X_df_num_genres = X_df_num_genres[~nan_mask]\n",
    "Y_df_num_genres = Y_df[~nan_mask]\n",
    "assert not (X_df_num_genres['genres'].isna()).all()"
   ]
  },
  {
   "cell_type": "code",
   "execution_count": 51,
   "metadata": {},
   "outputs": [],
   "source": [
    "# Convert multi category features to dummies\n",
    "genres_dummies = X_df_num_genres['genres'].str.join(sep='*').str.get_dummies(sep='*')"
   ]
  },
  {
   "cell_type": "code",
   "execution_count": 52,
   "metadata": {},
   "outputs": [],
   "source": [
    "X_df_num_genres = pd.concat([X_df_num_genres[numeric_features_name], genres_dummies], axis=1)"
   ]
  },
  {
   "cell_type": "code",
   "execution_count": 53,
   "metadata": {},
   "outputs": [],
   "source": [
    "test_size = len(X_df_num_genres) // 10\n",
    "train_size = len(X_df_num_genres) - test_size\n",
    "X_df_train = X_df_num_genres[:train_size]\n",
    "Y_df_train = Y_df_num_genres[:train_size]\n",
    "X_df_test = X_df_num_genres[train_size:]\n",
    "Y_df_test = Y_df_num_genres[train_size:]"
   ]
  },
  {
   "cell_type": "code",
   "execution_count": 54,
   "metadata": {},
   "outputs": [],
   "source": [
    "train = xgb.DMatrix(X_df_train, label=Y_df_train, missing=np.nan)\n",
    "test = xgb.DMatrix(X_df_test, label=Y_df_test, missing=np.nan)"
   ]
  },
  {
   "cell_type": "markdown",
   "metadata": {},
   "source": [
    "### Hyper parameter tunning"
   ]
  },
  {
   "cell_type": "code",
   "execution_count": 55,
   "metadata": {},
   "outputs": [],
   "source": [
    "default_param = {\n",
    "    'learning_rate': 0.1,\n",
    "    'n_estimators': 1000,\n",
    "    'max_depth': 5,\n",
    "    'min_child_weight': 1,\n",
    "    'gamma': 0,\n",
    "    'subsample': 0.8,\n",
    "    'colsample_bytree': 0.8,\n",
    "}"
   ]
  },
  {
   "cell_type": "markdown",
   "metadata": {},
   "source": [
    "1. Tunning the number of boost round"
   ]
  },
  {
   "cell_type": "code",
   "execution_count": 49,
   "metadata": {},
   "outputs": [],
   "source": [
    "model = XGBRegressor(**default_param)\n",
    "cvresult = xgb.cv(model.get_xgb_params(), train, num_boost_round=1000, nfold=5, early_stopping_rounds=50)"
   ]
  },
  {
   "cell_type": "code",
   "execution_count": 52,
   "metadata": {},
   "outputs": [
    {
     "name": "stdout",
     "output_type": "stream",
     "text": [
      "Optimal rounds: 125\n"
     ]
    }
   ],
   "source": [
    "print('Optimal rounds: %d' % (cvresult.shape[0]))"
   ]
  },
  {
   "cell_type": "markdown",
   "metadata": {},
   "source": [
    "2. Tunning the max_depth and min_child_weight"
   ]
  },
  {
   "cell_type": "code",
   "execution_count": 64,
   "metadata": {},
   "outputs": [
    {
     "name": "stdout",
     "output_type": "stream",
     "text": [
      "Fitting 5 folds for each of 35 candidates, totalling 175 fits\n",
      "[CV] max_depth=3, min_child_weight=1 .................................\n"
     ]
    },
    {
     "name": "stderr",
     "output_type": "stream",
     "text": [
      "[Parallel(n_jobs=1)]: Using backend SequentialBackend with 1 concurrent workers.\n"
     ]
    },
    {
     "name": "stdout",
     "output_type": "stream",
     "text": [
      "[CV] .................. max_depth=3, min_child_weight=1, total=   1.3s\n",
      "[CV] max_depth=3, min_child_weight=1 .................................\n"
     ]
    },
    {
     "name": "stderr",
     "output_type": "stream",
     "text": [
      "[Parallel(n_jobs=1)]: Done   1 out of   1 | elapsed:    1.3s remaining:    0.0s\n"
     ]
    },
    {
     "name": "stdout",
     "output_type": "stream",
     "text": [
      "[CV] .................. max_depth=3, min_child_weight=1, total=   1.4s\n",
      "[CV] max_depth=3, min_child_weight=1 .................................\n",
      "[CV] .................. max_depth=3, min_child_weight=1, total=   1.4s\n",
      "[CV] max_depth=3, min_child_weight=1 .................................\n",
      "[CV] .................. max_depth=3, min_child_weight=1, total=   1.4s\n",
      "[CV] max_depth=3, min_child_weight=1 .................................\n",
      "[CV] .................. max_depth=3, min_child_weight=1, total=   1.4s\n",
      "[CV] max_depth=3, min_child_weight=2 .................................\n",
      "[CV] .................. max_depth=3, min_child_weight=2, total=   1.4s\n",
      "[CV] max_depth=3, min_child_weight=2 .................................\n",
      "[CV] .................. max_depth=3, min_child_weight=2, total=   1.4s\n",
      "[CV] max_depth=3, min_child_weight=2 .................................\n",
      "[CV] .................. max_depth=3, min_child_weight=2, total=   1.4s\n",
      "[CV] max_depth=3, min_child_weight=2 .................................\n",
      "[CV] .................. max_depth=3, min_child_weight=2, total=   1.4s\n",
      "[CV] max_depth=3, min_child_weight=2 .................................\n",
      "[CV] .................. max_depth=3, min_child_weight=2, total=   1.4s\n",
      "[CV] max_depth=3, min_child_weight=3 .................................\n",
      "[CV] .................. max_depth=3, min_child_weight=3, total=   1.3s\n",
      "[CV] max_depth=3, min_child_weight=3 .................................\n",
      "[CV] .................. max_depth=3, min_child_weight=3, total=   1.3s\n",
      "[CV] max_depth=3, min_child_weight=3 .................................\n",
      "[CV] .................. max_depth=3, min_child_weight=3, total=   1.4s\n",
      "[CV] max_depth=3, min_child_weight=3 .................................\n",
      "[CV] .................. max_depth=3, min_child_weight=3, total=   1.4s\n",
      "[CV] max_depth=3, min_child_weight=3 .................................\n",
      "[CV] .................. max_depth=3, min_child_weight=3, total=   1.4s\n",
      "[CV] max_depth=3, min_child_weight=4 .................................\n",
      "[CV] .................. max_depth=3, min_child_weight=4, total=   1.3s\n",
      "[CV] max_depth=3, min_child_weight=4 .................................\n",
      "[CV] .................. max_depth=3, min_child_weight=4, total=   1.4s\n",
      "[CV] max_depth=3, min_child_weight=4 .................................\n",
      "[CV] .................. max_depth=3, min_child_weight=4, total=   1.4s\n",
      "[CV] max_depth=3, min_child_weight=4 .................................\n",
      "[CV] .................. max_depth=3, min_child_weight=4, total=   1.4s\n",
      "[CV] max_depth=3, min_child_weight=4 .................................\n",
      "[CV] .................. max_depth=3, min_child_weight=4, total=   1.4s\n",
      "[CV] max_depth=3, min_child_weight=5 .................................\n",
      "[CV] .................. max_depth=3, min_child_weight=5, total=   1.3s\n",
      "[CV] max_depth=3, min_child_weight=5 .................................\n",
      "[CV] .................. max_depth=3, min_child_weight=5, total=   1.3s\n",
      "[CV] max_depth=3, min_child_weight=5 .................................\n",
      "[CV] .................. max_depth=3, min_child_weight=5, total=   1.4s\n",
      "[CV] max_depth=3, min_child_weight=5 .................................\n",
      "[CV] .................. max_depth=3, min_child_weight=5, total=   1.4s\n",
      "[CV] max_depth=3, min_child_weight=5 .................................\n",
      "[CV] .................. max_depth=3, min_child_weight=5, total=   1.4s\n",
      "[CV] max_depth=4, min_child_weight=1 .................................\n",
      "[CV] .................. max_depth=4, min_child_weight=1, total=   1.7s\n",
      "[CV] max_depth=4, min_child_weight=1 .................................\n",
      "[CV] .................. max_depth=4, min_child_weight=1, total=   1.7s\n",
      "[CV] max_depth=4, min_child_weight=1 .................................\n",
      "[CV] .................. max_depth=4, min_child_weight=1, total=   1.8s\n",
      "[CV] max_depth=4, min_child_weight=1 .................................\n",
      "[CV] .................. max_depth=4, min_child_weight=1, total=   1.8s\n",
      "[CV] max_depth=4, min_child_weight=1 .................................\n",
      "[CV] .................. max_depth=4, min_child_weight=1, total=   1.8s\n",
      "[CV] max_depth=4, min_child_weight=2 .................................\n",
      "[CV] .................. max_depth=4, min_child_weight=2, total=   1.7s\n",
      "[CV] max_depth=4, min_child_weight=2 .................................\n",
      "[CV] .................. max_depth=4, min_child_weight=2, total=   1.8s\n",
      "[CV] max_depth=4, min_child_weight=2 .................................\n",
      "[CV] .................. max_depth=4, min_child_weight=2, total=   1.8s\n",
      "[CV] max_depth=4, min_child_weight=2 .................................\n",
      "[CV] .................. max_depth=4, min_child_weight=2, total=   1.8s\n",
      "[CV] max_depth=4, min_child_weight=2 .................................\n",
      "[CV] .................. max_depth=4, min_child_weight=2, total=   1.8s\n",
      "[CV] max_depth=4, min_child_weight=3 .................................\n",
      "[CV] .................. max_depth=4, min_child_weight=3, total=   1.7s\n",
      "[CV] max_depth=4, min_child_weight=3 .................................\n",
      "[CV] .................. max_depth=4, min_child_weight=3, total=   1.8s\n",
      "[CV] max_depth=4, min_child_weight=3 .................................\n",
      "[CV] .................. max_depth=4, min_child_weight=3, total=   1.9s\n",
      "[CV] max_depth=4, min_child_weight=3 .................................\n",
      "[CV] .................. max_depth=4, min_child_weight=3, total=   1.9s\n",
      "[CV] max_depth=4, min_child_weight=3 .................................\n",
      "[CV] .................. max_depth=4, min_child_weight=3, total=   1.8s\n",
      "[CV] max_depth=4, min_child_weight=4 .................................\n",
      "[CV] .................. max_depth=4, min_child_weight=4, total=   1.7s\n",
      "[CV] max_depth=4, min_child_weight=4 .................................\n",
      "[CV] .................. max_depth=4, min_child_weight=4, total=   1.8s\n",
      "[CV] max_depth=4, min_child_weight=4 .................................\n",
      "[CV] .................. max_depth=4, min_child_weight=4, total=   1.7s\n",
      "[CV] max_depth=4, min_child_weight=4 .................................\n",
      "[CV] .................. max_depth=4, min_child_weight=4, total=   1.8s\n",
      "[CV] max_depth=4, min_child_weight=4 .................................\n",
      "[CV] .................. max_depth=4, min_child_weight=4, total=   1.8s\n",
      "[CV] max_depth=4, min_child_weight=5 .................................\n",
      "[CV] .................. max_depth=4, min_child_weight=5, total=   1.8s\n",
      "[CV] max_depth=4, min_child_weight=5 .................................\n",
      "[CV] .................. max_depth=4, min_child_weight=5, total=   1.7s\n",
      "[CV] max_depth=4, min_child_weight=5 .................................\n",
      "[CV] .................. max_depth=4, min_child_weight=5, total=   1.7s\n",
      "[CV] max_depth=4, min_child_weight=5 .................................\n",
      "[CV] .................. max_depth=4, min_child_weight=5, total=   1.8s\n",
      "[CV] max_depth=4, min_child_weight=5 .................................\n",
      "[CV] .................. max_depth=4, min_child_weight=5, total=   1.8s\n",
      "[CV] max_depth=5, min_child_weight=1 .................................\n",
      "[CV] .................. max_depth=5, min_child_weight=1, total=   2.1s\n",
      "[CV] max_depth=5, min_child_weight=1 .................................\n",
      "[CV] .................. max_depth=5, min_child_weight=1, total=   2.2s\n",
      "[CV] max_depth=5, min_child_weight=1 .................................\n",
      "[CV] .................. max_depth=5, min_child_weight=1, total=   2.2s\n",
      "[CV] max_depth=5, min_child_weight=1 .................................\n",
      "[CV] .................. max_depth=5, min_child_weight=1, total=   2.2s\n",
      "[CV] max_depth=5, min_child_weight=1 .................................\n",
      "[CV] .................. max_depth=5, min_child_weight=1, total=   2.2s\n",
      "[CV] max_depth=5, min_child_weight=2 .................................\n",
      "[CV] .................. max_depth=5, min_child_weight=2, total=   2.1s\n",
      "[CV] max_depth=5, min_child_weight=2 .................................\n",
      "[CV] .................. max_depth=5, min_child_weight=2, total=   2.2s\n",
      "[CV] max_depth=5, min_child_weight=2 .................................\n",
      "[CV] .................. max_depth=5, min_child_weight=2, total=   2.2s\n",
      "[CV] max_depth=5, min_child_weight=2 .................................\n",
      "[CV] .................. max_depth=5, min_child_weight=2, total=   2.2s\n",
      "[CV] max_depth=5, min_child_weight=2 .................................\n"
     ]
    },
    {
     "name": "stdout",
     "output_type": "stream",
     "text": [
      "[CV] .................. max_depth=5, min_child_weight=2, total=   2.2s\n",
      "[CV] max_depth=5, min_child_weight=3 .................................\n",
      "[CV] .................. max_depth=5, min_child_weight=3, total=   2.2s\n",
      "[CV] max_depth=5, min_child_weight=3 .................................\n",
      "[CV] .................. max_depth=5, min_child_weight=3, total=   2.2s\n",
      "[CV] max_depth=5, min_child_weight=3 .................................\n",
      "[CV] .................. max_depth=5, min_child_weight=3, total=   2.2s\n",
      "[CV] max_depth=5, min_child_weight=3 .................................\n",
      "[CV] .................. max_depth=5, min_child_weight=3, total=   2.2s\n",
      "[CV] max_depth=5, min_child_weight=3 .................................\n",
      "[CV] .................. max_depth=5, min_child_weight=3, total=   2.2s\n",
      "[CV] max_depth=5, min_child_weight=4 .................................\n",
      "[CV] .................. max_depth=5, min_child_weight=4, total=   2.1s\n",
      "[CV] max_depth=5, min_child_weight=4 .................................\n",
      "[CV] .................. max_depth=5, min_child_weight=4, total=   2.2s\n",
      "[CV] max_depth=5, min_child_weight=4 .................................\n",
      "[CV] .................. max_depth=5, min_child_weight=4, total=   2.2s\n",
      "[CV] max_depth=5, min_child_weight=4 .................................\n",
      "[CV] .................. max_depth=5, min_child_weight=4, total=   2.2s\n",
      "[CV] max_depth=5, min_child_weight=4 .................................\n",
      "[CV] .................. max_depth=5, min_child_weight=4, total=   2.2s\n",
      "[CV] max_depth=5, min_child_weight=5 .................................\n",
      "[CV] .................. max_depth=5, min_child_weight=5, total=   2.1s\n",
      "[CV] max_depth=5, min_child_weight=5 .................................\n",
      "[CV] .................. max_depth=5, min_child_weight=5, total=   2.2s\n",
      "[CV] max_depth=5, min_child_weight=5 .................................\n",
      "[CV] .................. max_depth=5, min_child_weight=5, total=   2.2s\n",
      "[CV] max_depth=5, min_child_weight=5 .................................\n",
      "[CV] .................. max_depth=5, min_child_weight=5, total=   2.2s\n",
      "[CV] max_depth=5, min_child_weight=5 .................................\n",
      "[CV] .................. max_depth=5, min_child_weight=5, total=   2.2s\n",
      "[CV] max_depth=6, min_child_weight=1 .................................\n",
      "[CV] .................. max_depth=6, min_child_weight=1, total=   2.6s\n",
      "[CV] max_depth=6, min_child_weight=1 .................................\n",
      "[CV] .................. max_depth=6, min_child_weight=1, total=   2.6s\n",
      "[CV] max_depth=6, min_child_weight=1 .................................\n",
      "[CV] .................. max_depth=6, min_child_weight=1, total=   2.6s\n",
      "[CV] max_depth=6, min_child_weight=1 .................................\n",
      "[CV] .................. max_depth=6, min_child_weight=1, total=   2.7s\n",
      "[CV] max_depth=6, min_child_weight=1 .................................\n",
      "[CV] .................. max_depth=6, min_child_weight=1, total=   2.7s\n",
      "[CV] max_depth=6, min_child_weight=2 .................................\n",
      "[CV] .................. max_depth=6, min_child_weight=2, total=   2.6s\n",
      "[CV] max_depth=6, min_child_weight=2 .................................\n",
      "[CV] .................. max_depth=6, min_child_weight=2, total=   2.6s\n",
      "[CV] max_depth=6, min_child_weight=2 .................................\n",
      "[CV] .................. max_depth=6, min_child_weight=2, total=   2.6s\n",
      "[CV] max_depth=6, min_child_weight=2 .................................\n",
      "[CV] .................. max_depth=6, min_child_weight=2, total=   2.7s\n",
      "[CV] max_depth=6, min_child_weight=2 .................................\n",
      "[CV] .................. max_depth=6, min_child_weight=2, total=   2.6s\n",
      "[CV] max_depth=6, min_child_weight=3 .................................\n",
      "[CV] .................. max_depth=6, min_child_weight=3, total=   2.6s\n",
      "[CV] max_depth=6, min_child_weight=3 .................................\n",
      "[CV] .................. max_depth=6, min_child_weight=3, total=   2.6s\n",
      "[CV] max_depth=6, min_child_weight=3 .................................\n",
      "[CV] .................. max_depth=6, min_child_weight=3, total=   2.6s\n",
      "[CV] max_depth=6, min_child_weight=3 .................................\n",
      "[CV] .................. max_depth=6, min_child_weight=3, total=   2.6s\n",
      "[CV] max_depth=6, min_child_weight=3 .................................\n",
      "[CV] .................. max_depth=6, min_child_weight=3, total=   2.6s\n",
      "[CV] max_depth=6, min_child_weight=4 .................................\n",
      "[CV] .................. max_depth=6, min_child_weight=4, total=   2.5s\n",
      "[CV] max_depth=6, min_child_weight=4 .................................\n",
      "[CV] .................. max_depth=6, min_child_weight=4, total=   2.6s\n",
      "[CV] max_depth=6, min_child_weight=4 .................................\n",
      "[CV] .................. max_depth=6, min_child_weight=4, total=   2.6s\n",
      "[CV] max_depth=6, min_child_weight=4 .................................\n",
      "[CV] .................. max_depth=6, min_child_weight=4, total=   2.7s\n",
      "[CV] max_depth=6, min_child_weight=4 .................................\n",
      "[CV] .................. max_depth=6, min_child_weight=4, total=   2.6s\n",
      "[CV] max_depth=6, min_child_weight=5 .................................\n",
      "[CV] .................. max_depth=6, min_child_weight=5, total=   2.5s\n",
      "[CV] max_depth=6, min_child_weight=5 .................................\n",
      "[CV] .................. max_depth=6, min_child_weight=5, total=   2.6s\n",
      "[CV] max_depth=6, min_child_weight=5 .................................\n",
      "[CV] .................. max_depth=6, min_child_weight=5, total=   2.6s\n",
      "[CV] max_depth=6, min_child_weight=5 .................................\n",
      "[CV] .................. max_depth=6, min_child_weight=5, total=   2.6s\n",
      "[CV] max_depth=6, min_child_weight=5 .................................\n",
      "[CV] .................. max_depth=6, min_child_weight=5, total=   2.6s\n",
      "[CV] max_depth=7, min_child_weight=1 .................................\n",
      "[CV] .................. max_depth=7, min_child_weight=1, total=   3.1s\n",
      "[CV] max_depth=7, min_child_weight=1 .................................\n",
      "[CV] .................. max_depth=7, min_child_weight=1, total=   3.1s\n",
      "[CV] max_depth=7, min_child_weight=1 .................................\n",
      "[CV] .................. max_depth=7, min_child_weight=1, total=   3.1s\n",
      "[CV] max_depth=7, min_child_weight=1 .................................\n",
      "[CV] .................. max_depth=7, min_child_weight=1, total=   3.1s\n",
      "[CV] max_depth=7, min_child_weight=1 .................................\n",
      "[CV] .................. max_depth=7, min_child_weight=1, total=   3.1s\n",
      "[CV] max_depth=7, min_child_weight=2 .................................\n",
      "[CV] .................. max_depth=7, min_child_weight=2, total=   3.0s\n",
      "[CV] max_depth=7, min_child_weight=2 .................................\n",
      "[CV] .................. max_depth=7, min_child_weight=2, total=   3.1s\n",
      "[CV] max_depth=7, min_child_weight=2 .................................\n",
      "[CV] .................. max_depth=7, min_child_weight=2, total=   3.1s\n",
      "[CV] max_depth=7, min_child_weight=2 .................................\n",
      "[CV] .................. max_depth=7, min_child_weight=2, total=   3.1s\n",
      "[CV] max_depth=7, min_child_weight=2 .................................\n",
      "[CV] .................. max_depth=7, min_child_weight=2, total=   3.2s\n",
      "[CV] max_depth=7, min_child_weight=3 .................................\n",
      "[CV] .................. max_depth=7, min_child_weight=3, total=   3.1s\n",
      "[CV] max_depth=7, min_child_weight=3 .................................\n",
      "[CV] .................. max_depth=7, min_child_weight=3, total=   3.1s\n",
      "[CV] max_depth=7, min_child_weight=3 .................................\n",
      "[CV] .................. max_depth=7, min_child_weight=3, total=   3.1s\n",
      "[CV] max_depth=7, min_child_weight=3 .................................\n",
      "[CV] .................. max_depth=7, min_child_weight=3, total=   3.1s\n",
      "[CV] max_depth=7, min_child_weight=3 .................................\n",
      "[CV] .................. max_depth=7, min_child_weight=3, total=   3.2s\n",
      "[CV] max_depth=7, min_child_weight=4 .................................\n",
      "[CV] .................. max_depth=7, min_child_weight=4, total=   3.0s\n",
      "[CV] max_depth=7, min_child_weight=4 .................................\n",
      "[CV] .................. max_depth=7, min_child_weight=4, total=   3.0s\n",
      "[CV] max_depth=7, min_child_weight=4 .................................\n"
     ]
    },
    {
     "name": "stdout",
     "output_type": "stream",
     "text": [
      "[CV] .................. max_depth=7, min_child_weight=4, total=   3.1s\n",
      "[CV] max_depth=7, min_child_weight=4 .................................\n",
      "[CV] .................. max_depth=7, min_child_weight=4, total=   3.1s\n",
      "[CV] max_depth=7, min_child_weight=4 .................................\n",
      "[CV] .................. max_depth=7, min_child_weight=4, total=   3.1s\n",
      "[CV] max_depth=7, min_child_weight=5 .................................\n",
      "[CV] .................. max_depth=7, min_child_weight=5, total=   3.0s\n",
      "[CV] max_depth=7, min_child_weight=5 .................................\n",
      "[CV] .................. max_depth=7, min_child_weight=5, total=   3.0s\n",
      "[CV] max_depth=7, min_child_weight=5 .................................\n",
      "[CV] .................. max_depth=7, min_child_weight=5, total=   3.0s\n",
      "[CV] max_depth=7, min_child_weight=5 .................................\n",
      "[CV] .................. max_depth=7, min_child_weight=5, total=   3.1s\n",
      "[CV] max_depth=7, min_child_weight=5 .................................\n",
      "[CV] .................. max_depth=7, min_child_weight=5, total=   3.1s\n",
      "[CV] max_depth=8, min_child_weight=1 .................................\n",
      "[CV] .................. max_depth=8, min_child_weight=1, total=   3.6s\n",
      "[CV] max_depth=8, min_child_weight=1 .................................\n",
      "[CV] .................. max_depth=8, min_child_weight=1, total=   3.6s\n",
      "[CV] max_depth=8, min_child_weight=1 .................................\n",
      "[CV] .................. max_depth=8, min_child_weight=1, total=   3.6s\n",
      "[CV] max_depth=8, min_child_weight=1 .................................\n",
      "[CV] .................. max_depth=8, min_child_weight=1, total=   3.7s\n",
      "[CV] max_depth=8, min_child_weight=1 .................................\n",
      "[CV] .................. max_depth=8, min_child_weight=1, total=   3.7s\n",
      "[CV] max_depth=8, min_child_weight=2 .................................\n",
      "[CV] .................. max_depth=8, min_child_weight=2, total=   3.6s\n",
      "[CV] max_depth=8, min_child_weight=2 .................................\n",
      "[CV] .................. max_depth=8, min_child_weight=2, total=   3.6s\n",
      "[CV] max_depth=8, min_child_weight=2 .................................\n",
      "[CV] .................. max_depth=8, min_child_weight=2, total=   3.6s\n",
      "[CV] max_depth=8, min_child_weight=2 .................................\n",
      "[CV] .................. max_depth=8, min_child_weight=2, total=   3.6s\n",
      "[CV] max_depth=8, min_child_weight=2 .................................\n",
      "[CV] .................. max_depth=8, min_child_weight=2, total=   3.6s\n",
      "[CV] max_depth=8, min_child_weight=3 .................................\n",
      "[CV] .................. max_depth=8, min_child_weight=3, total=   3.5s\n",
      "[CV] max_depth=8, min_child_weight=3 .................................\n",
      "[CV] .................. max_depth=8, min_child_weight=3, total=   3.6s\n",
      "[CV] max_depth=8, min_child_weight=3 .................................\n",
      "[CV] .................. max_depth=8, min_child_weight=3, total=   3.6s\n",
      "[CV] max_depth=8, min_child_weight=3 .................................\n",
      "[CV] .................. max_depth=8, min_child_weight=3, total=   3.6s\n",
      "[CV] max_depth=8, min_child_weight=3 .................................\n",
      "[CV] .................. max_depth=8, min_child_weight=3, total=   3.6s\n",
      "[CV] max_depth=8, min_child_weight=4 .................................\n",
      "[CV] .................. max_depth=8, min_child_weight=4, total=   3.5s\n",
      "[CV] max_depth=8, min_child_weight=4 .................................\n",
      "[CV] .................. max_depth=8, min_child_weight=4, total=   3.5s\n",
      "[CV] max_depth=8, min_child_weight=4 .................................\n",
      "[CV] .................. max_depth=8, min_child_weight=4, total=   3.5s\n",
      "[CV] max_depth=8, min_child_weight=4 .................................\n",
      "[CV] .................. max_depth=8, min_child_weight=4, total=   3.5s\n",
      "[CV] max_depth=8, min_child_weight=4 .................................\n",
      "[CV] .................. max_depth=8, min_child_weight=4, total=   3.5s\n",
      "[CV] max_depth=8, min_child_weight=5 .................................\n",
      "[CV] .................. max_depth=8, min_child_weight=5, total=   3.4s\n",
      "[CV] max_depth=8, min_child_weight=5 .................................\n",
      "[CV] .................. max_depth=8, min_child_weight=5, total=   3.5s\n",
      "[CV] max_depth=8, min_child_weight=5 .................................\n",
      "[CV] .................. max_depth=8, min_child_weight=5, total=   3.8s\n",
      "[CV] max_depth=8, min_child_weight=5 .................................\n",
      "[CV] .................. max_depth=8, min_child_weight=5, total=   3.7s\n",
      "[CV] max_depth=8, min_child_weight=5 .................................\n",
      "[CV] .................. max_depth=8, min_child_weight=5, total=   3.7s\n",
      "[CV] max_depth=9, min_child_weight=1 .................................\n",
      "[CV] .................. max_depth=9, min_child_weight=1, total=   4.6s\n",
      "[CV] max_depth=9, min_child_weight=1 .................................\n",
      "[CV] .................. max_depth=9, min_child_weight=1, total=   4.3s\n",
      "[CV] max_depth=9, min_child_weight=1 .................................\n",
      "[CV] .................. max_depth=9, min_child_weight=1, total=   4.4s\n",
      "[CV] max_depth=9, min_child_weight=1 .................................\n",
      "[CV] .................. max_depth=9, min_child_weight=1, total=   4.3s\n",
      "[CV] max_depth=9, min_child_weight=1 .................................\n",
      "[CV] .................. max_depth=9, min_child_weight=1, total=   4.3s\n",
      "[CV] max_depth=9, min_child_weight=2 .................................\n",
      "[CV] .................. max_depth=9, min_child_weight=2, total=   4.0s\n",
      "[CV] max_depth=9, min_child_weight=2 .................................\n",
      "[CV] .................. max_depth=9, min_child_weight=2, total=   4.2s\n",
      "[CV] max_depth=9, min_child_weight=2 .................................\n",
      "[CV] .................. max_depth=9, min_child_weight=2, total=   4.3s\n",
      "[CV] max_depth=9, min_child_weight=2 .................................\n",
      "[CV] .................. max_depth=9, min_child_weight=2, total=   4.1s\n",
      "[CV] max_depth=9, min_child_weight=2 .................................\n",
      "[CV] .................. max_depth=9, min_child_weight=2, total=   4.2s\n",
      "[CV] max_depth=9, min_child_weight=3 .................................\n",
      "[CV] .................. max_depth=9, min_child_weight=3, total=   4.0s\n",
      "[CV] max_depth=9, min_child_weight=3 .................................\n",
      "[CV] .................. max_depth=9, min_child_weight=3, total=   4.0s\n",
      "[CV] max_depth=9, min_child_weight=3 .................................\n",
      "[CV] .................. max_depth=9, min_child_weight=3, total=   4.0s\n",
      "[CV] max_depth=9, min_child_weight=3 .................................\n",
      "[CV] .................. max_depth=9, min_child_weight=3, total=   4.1s\n",
      "[CV] max_depth=9, min_child_weight=3 .................................\n",
      "[CV] .................. max_depth=9, min_child_weight=3, total=   4.2s\n",
      "[CV] max_depth=9, min_child_weight=4 .................................\n",
      "[CV] .................. max_depth=9, min_child_weight=4, total=   4.0s\n",
      "[CV] max_depth=9, min_child_weight=4 .................................\n",
      "[CV] .................. max_depth=9, min_child_weight=4, total=   4.0s\n",
      "[CV] max_depth=9, min_child_weight=4 .................................\n",
      "[CV] .................. max_depth=9, min_child_weight=4, total=   4.0s\n",
      "[CV] max_depth=9, min_child_weight=4 .................................\n",
      "[CV] .................. max_depth=9, min_child_weight=4, total=   4.0s\n",
      "[CV] max_depth=9, min_child_weight=4 .................................\n",
      "[CV] .................. max_depth=9, min_child_weight=4, total=   4.1s\n",
      "[CV] max_depth=9, min_child_weight=5 .................................\n",
      "[CV] .................. max_depth=9, min_child_weight=5, total=   3.9s\n",
      "[CV] max_depth=9, min_child_weight=5 .................................\n",
      "[CV] .................. max_depth=9, min_child_weight=5, total=   4.0s\n",
      "[CV] max_depth=9, min_child_weight=5 .................................\n",
      "[CV] .................. max_depth=9, min_child_weight=5, total=   3.9s\n",
      "[CV] max_depth=9, min_child_weight=5 .................................\n",
      "[CV] .................. max_depth=9, min_child_weight=5, total=   4.0s\n",
      "[CV] max_depth=9, min_child_weight=5 .................................\n",
      "[CV] .................. max_depth=9, min_child_weight=5, total=   4.0s\n"
     ]
    },
    {
     "name": "stderr",
     "output_type": "stream",
     "text": [
      "[Parallel(n_jobs=1)]: Done 175 out of 175 | elapsed:  7.8min finished\n"
     ]
    },
    {
     "data": {
      "text/plain": [
       "GridSearchCV(cv=5,\n",
       "             estimator=XGBRegressor(base_score=None, booster=None,\n",
       "                                    colsample_bylevel=None,\n",
       "                                    colsample_bynode=None, colsample_bytree=0.8,\n",
       "                                    gamma=0, gpu_id=None,\n",
       "                                    importance_type='gain',\n",
       "                                    interaction_constraints=None,\n",
       "                                    learning_rate=0.1, max_delta_step=None,\n",
       "                                    max_depth=5, min_child_weight=1,\n",
       "                                    missing=nan, monotone_constraints=None,\n",
       "                                    n_estimators=150, n_jobs=None, nthread=2,\n",
       "                                    num_parallel_tree=None, random_state=None,\n",
       "                                    reg_alpha=None, reg_lambda=None,\n",
       "                                    scale_pos_weight=None, subsample=0.8,\n",
       "                                    tree_method=None, validate_parameters=None,\n",
       "                                    verbosity=None),\n",
       "             param_grid={'max_depth': range(3, 10),\n",
       "                         'min_child_weight': range(1, 6)},\n",
       "             scoring='neg_mean_squared_error', verbose=2)"
      ]
     },
     "execution_count": 64,
     "metadata": {},
     "output_type": "execute_result"
    }
   ],
   "source": [
    "default_param['n_estimators'] = 150\n",
    "param_test = {\n",
    "    'max_depth': range(3, 10, 1),\n",
    "    'min_child_weight': range(1, 6, 1),\n",
    "}\n",
    "\n",
    "grid_search = GridSearchCV(estimator=XGBRegressor(nthread=2, **default_param), param_grid=param_test, scoring='neg_mean_squared_error', cv=5, verbose=2)\n",
    "grid_search.fit(X_df_train, Y_df_train)"
   ]
  },
  {
   "cell_type": "code",
   "execution_count": 70,
   "metadata": {},
   "outputs": [
    {
     "name": "stdout",
     "output_type": "stream",
     "text": [
      "Best score: -0.794177\n",
      "Best param:  {'max_depth': 5, 'min_child_weight': 4}\n"
     ]
    }
   ],
   "source": [
    "print('Best score: %f' % grid_search.best_score_)\n",
    "print('Best param: ', grid_search.best_params_)"
   ]
  },
  {
   "cell_type": "markdown",
   "metadata": {},
   "source": [
    "3. Tunning the gamma"
   ]
  },
  {
   "cell_type": "code",
   "execution_count": 71,
   "metadata": {},
   "outputs": [
    {
     "name": "stdout",
     "output_type": "stream",
     "text": [
      "Fitting 5 folds for each of 5 candidates, totalling 25 fits\n",
      "[CV] gamma=0.0 .......................................................\n"
     ]
    },
    {
     "name": "stderr",
     "output_type": "stream",
     "text": [
      "[Parallel(n_jobs=1)]: Using backend SequentialBackend with 1 concurrent workers.\n"
     ]
    },
    {
     "name": "stdout",
     "output_type": "stream",
     "text": [
      "[CV] ........................................ gamma=0.0, total=   2.2s\n",
      "[CV] gamma=0.0 .......................................................\n"
     ]
    },
    {
     "name": "stderr",
     "output_type": "stream",
     "text": [
      "[Parallel(n_jobs=1)]: Done   1 out of   1 | elapsed:    2.2s remaining:    0.0s\n"
     ]
    },
    {
     "name": "stdout",
     "output_type": "stream",
     "text": [
      "[CV] ........................................ gamma=0.0, total=   2.2s\n",
      "[CV] gamma=0.0 .......................................................\n",
      "[CV] ........................................ gamma=0.0, total=   2.2s\n",
      "[CV] gamma=0.0 .......................................................\n",
      "[CV] ........................................ gamma=0.0, total=   2.2s\n",
      "[CV] gamma=0.0 .......................................................\n",
      "[CV] ........................................ gamma=0.0, total=   2.2s\n",
      "[CV] gamma=0.1 .......................................................\n",
      "[CV] ........................................ gamma=0.1, total=   2.1s\n",
      "[CV] gamma=0.1 .......................................................\n",
      "[CV] ........................................ gamma=0.1, total=   2.2s\n",
      "[CV] gamma=0.1 .......................................................\n",
      "[CV] ........................................ gamma=0.1, total=   2.2s\n",
      "[CV] gamma=0.1 .......................................................\n",
      "[CV] ........................................ gamma=0.1, total=   2.2s\n",
      "[CV] gamma=0.1 .......................................................\n",
      "[CV] ........................................ gamma=0.1, total=   2.2s\n",
      "[CV] gamma=0.2 .......................................................\n",
      "[CV] ........................................ gamma=0.2, total=   2.1s\n",
      "[CV] gamma=0.2 .......................................................\n",
      "[CV] ........................................ gamma=0.2, total=   2.2s\n",
      "[CV] gamma=0.2 .......................................................\n",
      "[CV] ........................................ gamma=0.2, total=   2.2s\n",
      "[CV] gamma=0.2 .......................................................\n",
      "[CV] ........................................ gamma=0.2, total=   2.2s\n",
      "[CV] gamma=0.2 .......................................................\n",
      "[CV] ........................................ gamma=0.2, total=   2.2s\n",
      "[CV] gamma=0.3 .......................................................\n",
      "[CV] ........................................ gamma=0.3, total=   2.1s\n",
      "[CV] gamma=0.3 .......................................................\n",
      "[CV] ........................................ gamma=0.3, total=   2.2s\n",
      "[CV] gamma=0.3 .......................................................\n",
      "[CV] ........................................ gamma=0.3, total=   2.2s\n",
      "[CV] gamma=0.3 .......................................................\n",
      "[CV] ........................................ gamma=0.3, total=   2.2s\n",
      "[CV] gamma=0.3 .......................................................\n",
      "[CV] ........................................ gamma=0.3, total=   2.2s\n",
      "[CV] gamma=0.4 .......................................................\n",
      "[CV] ........................................ gamma=0.4, total=   2.1s\n",
      "[CV] gamma=0.4 .......................................................\n",
      "[CV] ........................................ gamma=0.4, total=   2.2s\n",
      "[CV] gamma=0.4 .......................................................\n",
      "[CV] ........................................ gamma=0.4, total=   2.2s\n",
      "[CV] gamma=0.4 .......................................................\n",
      "[CV] ........................................ gamma=0.4, total=   2.2s\n",
      "[CV] gamma=0.4 .......................................................\n",
      "[CV] ........................................ gamma=0.4, total=   2.2s\n"
     ]
    },
    {
     "name": "stderr",
     "output_type": "stream",
     "text": [
      "[Parallel(n_jobs=1)]: Done  25 out of  25 | elapsed:   54.4s finished\n"
     ]
    },
    {
     "data": {
      "text/plain": [
       "GridSearchCV(cv=5,\n",
       "             estimator=XGBRegressor(base_score=None, booster=None,\n",
       "                                    colsample_bylevel=None,\n",
       "                                    colsample_bynode=None, colsample_bytree=0.8,\n",
       "                                    gamma=0, gpu_id=None,\n",
       "                                    importance_type='gain',\n",
       "                                    interaction_constraints=None,\n",
       "                                    learning_rate=0.1, max_delta_step=None,\n",
       "                                    max_depth=5, min_child_weight=4,\n",
       "                                    missing=nan, monotone_constraints=None,\n",
       "                                    n_estimators=150, n_jobs=None, nthread=2,\n",
       "                                    num_parallel_tree=None, random_state=None,\n",
       "                                    reg_alpha=None, reg_lambda=None,\n",
       "                                    scale_pos_weight=None, subsample=0.8,\n",
       "                                    tree_method=None, validate_parameters=None,\n",
       "                                    verbosity=None),\n",
       "             param_grid={'gamma': [0.0, 0.1, 0.2, 0.3, 0.4]},\n",
       "             scoring='neg_mean_squared_error', verbose=2)"
      ]
     },
     "execution_count": 71,
     "metadata": {},
     "output_type": "execute_result"
    }
   ],
   "source": [
    "param_test = {\n",
    "    'gamma': [i / 10.0 for i in range(0, 5)]\n",
    "}\n",
    "default_param['max_depth'] = 5\n",
    "default_param['min_child_weight'] = 4\n",
    "\n",
    "grid_search = GridSearchCV(estimator=XGBRegressor(nthread=2, **default_param), param_grid=param_test, scoring='neg_mean_squared_error', cv=5, verbose=2)\n",
    "grid_search.fit(X_df_train, Y_df_train)"
   ]
  },
  {
   "cell_type": "code",
   "execution_count": 72,
   "metadata": {},
   "outputs": [
    {
     "name": "stdout",
     "output_type": "stream",
     "text": [
      "Best score: -0.794111\n",
      "Best param:  {'gamma': 0.1}\n"
     ]
    }
   ],
   "source": [
    "print('Best score: %f' % grid_search.best_score_)\n",
    "print('Best param: ', grid_search.best_params_)"
   ]
  },
  {
   "cell_type": "markdown",
   "metadata": {},
   "source": [
    "4. Tunning the subsample and colsample_bytree"
   ]
  },
  {
   "cell_type": "code",
   "execution_count": 73,
   "metadata": {},
   "outputs": [
    {
     "name": "stdout",
     "output_type": "stream",
     "text": [
      "Fitting 5 folds for each of 16 candidates, totalling 80 fits\n",
      "[CV] colsample_bytree=0.6, subsample=0.6 .............................\n"
     ]
    },
    {
     "name": "stderr",
     "output_type": "stream",
     "text": [
      "[Parallel(n_jobs=1)]: Using backend SequentialBackend with 1 concurrent workers.\n"
     ]
    },
    {
     "name": "stdout",
     "output_type": "stream",
     "text": [
      "[CV] .............. colsample_bytree=0.6, subsample=0.6, total=   1.9s\n",
      "[CV] colsample_bytree=0.6, subsample=0.6 .............................\n"
     ]
    },
    {
     "name": "stderr",
     "output_type": "stream",
     "text": [
      "[Parallel(n_jobs=1)]: Done   1 out of   1 | elapsed:    1.9s remaining:    0.0s\n"
     ]
    },
    {
     "name": "stdout",
     "output_type": "stream",
     "text": [
      "[CV] .............. colsample_bytree=0.6, subsample=0.6, total=   1.9s\n",
      "[CV] colsample_bytree=0.6, subsample=0.6 .............................\n",
      "[CV] .............. colsample_bytree=0.6, subsample=0.6, total=   1.9s\n",
      "[CV] colsample_bytree=0.6, subsample=0.6 .............................\n",
      "[CV] .............. colsample_bytree=0.6, subsample=0.6, total=   1.9s\n",
      "[CV] colsample_bytree=0.6, subsample=0.6 .............................\n",
      "[CV] .............. colsample_bytree=0.6, subsample=0.6, total=   1.9s\n",
      "[CV] colsample_bytree=0.6, subsample=0.7 .............................\n",
      "[CV] .............. colsample_bytree=0.6, subsample=0.7, total=   1.8s\n",
      "[CV] colsample_bytree=0.6, subsample=0.7 .............................\n",
      "[CV] .............. colsample_bytree=0.6, subsample=0.7, total=   1.8s\n",
      "[CV] colsample_bytree=0.6, subsample=0.7 .............................\n",
      "[CV] .............. colsample_bytree=0.6, subsample=0.7, total=   1.8s\n",
      "[CV] colsample_bytree=0.6, subsample=0.7 .............................\n",
      "[CV] .............. colsample_bytree=0.6, subsample=0.7, total=   2.0s\n",
      "[CV] colsample_bytree=0.6, subsample=0.7 .............................\n",
      "[CV] .............. colsample_bytree=0.6, subsample=0.7, total=   1.8s\n",
      "[CV] colsample_bytree=0.6, subsample=0.8 .............................\n",
      "[CV] .............. colsample_bytree=0.6, subsample=0.8, total=   1.7s\n",
      "[CV] colsample_bytree=0.6, subsample=0.8 .............................\n",
      "[CV] .............. colsample_bytree=0.6, subsample=0.8, total=   1.8s\n",
      "[CV] colsample_bytree=0.6, subsample=0.8 .............................\n",
      "[CV] .............. colsample_bytree=0.6, subsample=0.8, total=   1.8s\n",
      "[CV] colsample_bytree=0.6, subsample=0.8 .............................\n",
      "[CV] .............. colsample_bytree=0.6, subsample=0.8, total=   1.8s\n",
      "[CV] colsample_bytree=0.6, subsample=0.8 .............................\n",
      "[CV] .............. colsample_bytree=0.6, subsample=0.8, total=   1.8s\n",
      "[CV] colsample_bytree=0.6, subsample=0.9 .............................\n",
      "[CV] .............. colsample_bytree=0.6, subsample=0.9, total=   1.8s\n",
      "[CV] colsample_bytree=0.6, subsample=0.9 .............................\n",
      "[CV] .............. colsample_bytree=0.6, subsample=0.9, total=   1.7s\n",
      "[CV] colsample_bytree=0.6, subsample=0.9 .............................\n",
      "[CV] .............. colsample_bytree=0.6, subsample=0.9, total=   1.7s\n",
      "[CV] colsample_bytree=0.6, subsample=0.9 .............................\n",
      "[CV] .............. colsample_bytree=0.6, subsample=0.9, total=   1.8s\n",
      "[CV] colsample_bytree=0.6, subsample=0.9 .............................\n",
      "[CV] .............. colsample_bytree=0.6, subsample=0.9, total=   1.8s\n",
      "[CV] colsample_bytree=0.7, subsample=0.6 .............................\n",
      "[CV] .............. colsample_bytree=0.7, subsample=0.6, total=   2.0s\n",
      "[CV] colsample_bytree=0.7, subsample=0.6 .............................\n",
      "[CV] .............. colsample_bytree=0.7, subsample=0.6, total=   2.0s\n",
      "[CV] colsample_bytree=0.7, subsample=0.6 .............................\n",
      "[CV] .............. colsample_bytree=0.7, subsample=0.6, total=   2.1s\n",
      "[CV] colsample_bytree=0.7, subsample=0.6 .............................\n",
      "[CV] .............. colsample_bytree=0.7, subsample=0.6, total=   2.1s\n",
      "[CV] colsample_bytree=0.7, subsample=0.6 .............................\n",
      "[CV] .............. colsample_bytree=0.7, subsample=0.6, total=   2.1s\n",
      "[CV] colsample_bytree=0.7, subsample=0.7 .............................\n",
      "[CV] .............. colsample_bytree=0.7, subsample=0.7, total=   2.0s\n",
      "[CV] colsample_bytree=0.7, subsample=0.7 .............................\n",
      "[CV] .............. colsample_bytree=0.7, subsample=0.7, total=   2.0s\n",
      "[CV] colsample_bytree=0.7, subsample=0.7 .............................\n",
      "[CV] .............. colsample_bytree=0.7, subsample=0.7, total=   2.0s\n",
      "[CV] colsample_bytree=0.7, subsample=0.7 .............................\n",
      "[CV] .............. colsample_bytree=0.7, subsample=0.7, total=   2.0s\n",
      "[CV] colsample_bytree=0.7, subsample=0.7 .............................\n",
      "[CV] .............. colsample_bytree=0.7, subsample=0.7, total=   2.0s\n",
      "[CV] colsample_bytree=0.7, subsample=0.8 .............................\n",
      "[CV] .............. colsample_bytree=0.7, subsample=0.8, total=   1.9s\n",
      "[CV] colsample_bytree=0.7, subsample=0.8 .............................\n",
      "[CV] .............. colsample_bytree=0.7, subsample=0.8, total=   1.9s\n",
      "[CV] colsample_bytree=0.7, subsample=0.8 .............................\n",
      "[CV] .............. colsample_bytree=0.7, subsample=0.8, total=   2.0s\n",
      "[CV] colsample_bytree=0.7, subsample=0.8 .............................\n",
      "[CV] .............. colsample_bytree=0.7, subsample=0.8, total=   2.0s\n",
      "[CV] colsample_bytree=0.7, subsample=0.8 .............................\n",
      "[CV] .............. colsample_bytree=0.7, subsample=0.8, total=   2.1s\n",
      "[CV] colsample_bytree=0.7, subsample=0.9 .............................\n",
      "[CV] .............. colsample_bytree=0.7, subsample=0.9, total=   1.9s\n",
      "[CV] colsample_bytree=0.7, subsample=0.9 .............................\n",
      "[CV] .............. colsample_bytree=0.7, subsample=0.9, total=   1.9s\n",
      "[CV] colsample_bytree=0.7, subsample=0.9 .............................\n",
      "[CV] .............. colsample_bytree=0.7, subsample=0.9, total=   1.9s\n",
      "[CV] colsample_bytree=0.7, subsample=0.9 .............................\n",
      "[CV] .............. colsample_bytree=0.7, subsample=0.9, total=   2.0s\n",
      "[CV] colsample_bytree=0.7, subsample=0.9 .............................\n",
      "[CV] .............. colsample_bytree=0.7, subsample=0.9, total=   1.9s\n",
      "[CV] colsample_bytree=0.8, subsample=0.6 .............................\n",
      "[CV] .............. colsample_bytree=0.8, subsample=0.6, total=   2.3s\n",
      "[CV] colsample_bytree=0.8, subsample=0.6 .............................\n",
      "[CV] .............. colsample_bytree=0.8, subsample=0.6, total=   2.3s\n",
      "[CV] colsample_bytree=0.8, subsample=0.6 .............................\n",
      "[CV] .............. colsample_bytree=0.8, subsample=0.6, total=   2.3s\n",
      "[CV] colsample_bytree=0.8, subsample=0.6 .............................\n",
      "[CV] .............. colsample_bytree=0.8, subsample=0.6, total=   2.3s\n",
      "[CV] colsample_bytree=0.8, subsample=0.6 .............................\n",
      "[CV] .............. colsample_bytree=0.8, subsample=0.6, total=   2.3s\n",
      "[CV] colsample_bytree=0.8, subsample=0.7 .............................\n",
      "[CV] .............. colsample_bytree=0.8, subsample=0.7, total=   2.2s\n",
      "[CV] colsample_bytree=0.8, subsample=0.7 .............................\n",
      "[CV] .............. colsample_bytree=0.8, subsample=0.7, total=   2.3s\n",
      "[CV] colsample_bytree=0.8, subsample=0.7 .............................\n",
      "[CV] .............. colsample_bytree=0.8, subsample=0.7, total=   2.3s\n",
      "[CV] colsample_bytree=0.8, subsample=0.7 .............................\n",
      "[CV] .............. colsample_bytree=0.8, subsample=0.7, total=   2.3s\n",
      "[CV] colsample_bytree=0.8, subsample=0.7 .............................\n",
      "[CV] .............. colsample_bytree=0.8, subsample=0.7, total=   2.3s\n",
      "[CV] colsample_bytree=0.8, subsample=0.8 .............................\n",
      "[CV] .............. colsample_bytree=0.8, subsample=0.8, total=   2.1s\n",
      "[CV] colsample_bytree=0.8, subsample=0.8 .............................\n",
      "[CV] .............. colsample_bytree=0.8, subsample=0.8, total=   2.2s\n",
      "[CV] colsample_bytree=0.8, subsample=0.8 .............................\n",
      "[CV] .............. colsample_bytree=0.8, subsample=0.8, total=   2.2s\n",
      "[CV] colsample_bytree=0.8, subsample=0.8 .............................\n",
      "[CV] .............. colsample_bytree=0.8, subsample=0.8, total=   2.2s\n",
      "[CV] colsample_bytree=0.8, subsample=0.8 .............................\n",
      "[CV] .............. colsample_bytree=0.8, subsample=0.8, total=   2.2s\n",
      "[CV] colsample_bytree=0.8, subsample=0.9 .............................\n",
      "[CV] .............. colsample_bytree=0.8, subsample=0.9, total=   2.1s\n",
      "[CV] colsample_bytree=0.8, subsample=0.9 .............................\n",
      "[CV] .............. colsample_bytree=0.8, subsample=0.9, total=   2.1s\n",
      "[CV] colsample_bytree=0.8, subsample=0.9 .............................\n",
      "[CV] .............. colsample_bytree=0.8, subsample=0.9, total=   2.1s\n",
      "[CV] colsample_bytree=0.8, subsample=0.9 .............................\n",
      "[CV] .............. colsample_bytree=0.8, subsample=0.9, total=   2.2s\n",
      "[CV] colsample_bytree=0.8, subsample=0.9 .............................\n"
     ]
    },
    {
     "name": "stdout",
     "output_type": "stream",
     "text": [
      "[CV] .............. colsample_bytree=0.8, subsample=0.9, total=   2.2s\n",
      "[CV] colsample_bytree=0.9, subsample=0.6 .............................\n",
      "[CV] .............. colsample_bytree=0.9, subsample=0.6, total=   2.5s\n",
      "[CV] colsample_bytree=0.9, subsample=0.6 .............................\n",
      "[CV] .............. colsample_bytree=0.9, subsample=0.6, total=   2.5s\n",
      "[CV] colsample_bytree=0.9, subsample=0.6 .............................\n",
      "[CV] .............. colsample_bytree=0.9, subsample=0.6, total=   2.5s\n",
      "[CV] colsample_bytree=0.9, subsample=0.6 .............................\n",
      "[CV] .............. colsample_bytree=0.9, subsample=0.6, total=   2.5s\n",
      "[CV] colsample_bytree=0.9, subsample=0.6 .............................\n",
      "[CV] .............. colsample_bytree=0.9, subsample=0.6, total=   2.5s\n",
      "[CV] colsample_bytree=0.9, subsample=0.7 .............................\n",
      "[CV] .............. colsample_bytree=0.9, subsample=0.7, total=   2.4s\n",
      "[CV] colsample_bytree=0.9, subsample=0.7 .............................\n",
      "[CV] .............. colsample_bytree=0.9, subsample=0.7, total=   2.4s\n",
      "[CV] colsample_bytree=0.9, subsample=0.7 .............................\n",
      "[CV] .............. colsample_bytree=0.9, subsample=0.7, total=   2.4s\n",
      "[CV] colsample_bytree=0.9, subsample=0.7 .............................\n",
      "[CV] .............. colsample_bytree=0.9, subsample=0.7, total=   2.5s\n",
      "[CV] colsample_bytree=0.9, subsample=0.7 .............................\n",
      "[CV] .............. colsample_bytree=0.9, subsample=0.7, total=   2.5s\n",
      "[CV] colsample_bytree=0.9, subsample=0.8 .............................\n",
      "[CV] .............. colsample_bytree=0.9, subsample=0.8, total=   2.3s\n",
      "[CV] colsample_bytree=0.9, subsample=0.8 .............................\n",
      "[CV] .............. colsample_bytree=0.9, subsample=0.8, total=   2.3s\n",
      "[CV] colsample_bytree=0.9, subsample=0.8 .............................\n",
      "[CV] .............. colsample_bytree=0.9, subsample=0.8, total=   2.4s\n",
      "[CV] colsample_bytree=0.9, subsample=0.8 .............................\n",
      "[CV] .............. colsample_bytree=0.9, subsample=0.8, total=   2.4s\n",
      "[CV] colsample_bytree=0.9, subsample=0.8 .............................\n",
      "[CV] .............. colsample_bytree=0.9, subsample=0.8, total=   2.4s\n",
      "[CV] colsample_bytree=0.9, subsample=0.9 .............................\n",
      "[CV] .............. colsample_bytree=0.9, subsample=0.9, total=   2.3s\n",
      "[CV] colsample_bytree=0.9, subsample=0.9 .............................\n",
      "[CV] .............. colsample_bytree=0.9, subsample=0.9, total=   2.3s\n",
      "[CV] colsample_bytree=0.9, subsample=0.9 .............................\n",
      "[CV] .............. colsample_bytree=0.9, subsample=0.9, total=   2.3s\n",
      "[CV] colsample_bytree=0.9, subsample=0.9 .............................\n",
      "[CV] .............. colsample_bytree=0.9, subsample=0.9, total=   2.3s\n",
      "[CV] colsample_bytree=0.9, subsample=0.9 .............................\n",
      "[CV] .............. colsample_bytree=0.9, subsample=0.9, total=   2.3s\n"
     ]
    },
    {
     "name": "stderr",
     "output_type": "stream",
     "text": [
      "[Parallel(n_jobs=1)]: Done  80 out of  80 | elapsed:  2.8min finished\n"
     ]
    },
    {
     "data": {
      "text/plain": [
       "GridSearchCV(cv=5,\n",
       "             estimator=XGBRegressor(base_score=None, booster=None,\n",
       "                                    colsample_bylevel=None,\n",
       "                                    colsample_bynode=None, colsample_bytree=0.8,\n",
       "                                    gamma=0.1, gpu_id=None,\n",
       "                                    importance_type='gain',\n",
       "                                    interaction_constraints=None,\n",
       "                                    learning_rate=0.1, max_delta_step=None,\n",
       "                                    max_depth=5, min_child_weight=4,\n",
       "                                    missing=nan, monotone_constraints=None,\n",
       "                                    n_estimators=150, n_jobs=None, nthread=2,\n",
       "                                    num_parallel_tree=None, random_state=None,\n",
       "                                    reg_alpha=None, reg_lambda=None,\n",
       "                                    scale_pos_weight=None, subsample=0.8,\n",
       "                                    tree_method=None, validate_parameters=None,\n",
       "                                    verbosity=None),\n",
       "             param_grid={'colsample_bytree': [0.6, 0.7, 0.8, 0.9],\n",
       "                         'subsample': [0.6, 0.7, 0.8, 0.9]},\n",
       "             scoring='neg_mean_squared_error', verbose=2)"
      ]
     },
     "execution_count": 73,
     "metadata": {},
     "output_type": "execute_result"
    }
   ],
   "source": [
    "param_test = {\n",
    "    'subsample': [i / 10.0 for i in range(6, 10)],\n",
    "    'colsample_bytree': [i / 10.0 for i in range(6, 10)],\n",
    "}\n",
    "default_param['gamma'] = 0.1\n",
    "\n",
    "grid_search = GridSearchCV(estimator=XGBRegressor(nthread=2, **default_param), param_grid=param_test, scoring='neg_mean_squared_error', cv=5, verbose=2)\n",
    "grid_search.fit(X_df_train, Y_df_train)"
   ]
  },
  {
   "cell_type": "code",
   "execution_count": 74,
   "metadata": {},
   "outputs": [
    {
     "name": "stdout",
     "output_type": "stream",
     "text": [
      "Best score: -0.793141\n",
      "Best param:  {'colsample_bytree': 0.6, 'subsample': 0.8}\n"
     ]
    }
   ],
   "source": [
    "print('Best score: %f' % grid_search.best_score_)\n",
    "print('Best param: ', grid_search.best_params_)"
   ]
  },
  {
   "cell_type": "markdown",
   "metadata": {},
   "source": [
    "5. Tunning the reg_alpha"
   ]
  },
  {
   "cell_type": "code",
   "execution_count": 78,
   "metadata": {},
   "outputs": [
    {
     "name": "stdout",
     "output_type": "stream",
     "text": [
      "Fitting 5 folds for each of 8 candidates, totalling 40 fits\n",
      "[CV] reg_alpha=1e-05 .................................................\n"
     ]
    },
    {
     "name": "stderr",
     "output_type": "stream",
     "text": [
      "[Parallel(n_jobs=1)]: Using backend SequentialBackend with 1 concurrent workers.\n"
     ]
    },
    {
     "name": "stdout",
     "output_type": "stream",
     "text": [
      "[CV] .................................. reg_alpha=1e-05, total=   1.8s\n",
      "[CV] reg_alpha=1e-05 .................................................\n"
     ]
    },
    {
     "name": "stderr",
     "output_type": "stream",
     "text": [
      "[Parallel(n_jobs=1)]: Done   1 out of   1 | elapsed:    1.8s remaining:    0.0s\n"
     ]
    },
    {
     "name": "stdout",
     "output_type": "stream",
     "text": [
      "[CV] .................................. reg_alpha=1e-05, total=   1.8s\n",
      "[CV] reg_alpha=1e-05 .................................................\n",
      "[CV] .................................. reg_alpha=1e-05, total=   1.8s\n",
      "[CV] reg_alpha=1e-05 .................................................\n",
      "[CV] .................................. reg_alpha=1e-05, total=   1.8s\n",
      "[CV] reg_alpha=1e-05 .................................................\n",
      "[CV] .................................. reg_alpha=1e-05, total=   1.8s\n",
      "[CV] reg_alpha=0.0001 ................................................\n",
      "[CV] ................................. reg_alpha=0.0001, total=   1.7s\n",
      "[CV] reg_alpha=0.0001 ................................................\n",
      "[CV] ................................. reg_alpha=0.0001, total=   1.8s\n",
      "[CV] reg_alpha=0.0001 ................................................\n",
      "[CV] ................................. reg_alpha=0.0001, total=   1.9s\n",
      "[CV] reg_alpha=0.0001 ................................................\n",
      "[CV] ................................. reg_alpha=0.0001, total=   1.8s\n",
      "[CV] reg_alpha=0.0001 ................................................\n",
      "[CV] ................................. reg_alpha=0.0001, total=   1.8s\n",
      "[CV] reg_alpha=0.001 .................................................\n",
      "[CV] .................................. reg_alpha=0.001, total=   1.7s\n",
      "[CV] reg_alpha=0.001 .................................................\n",
      "[CV] .................................. reg_alpha=0.001, total=   1.8s\n",
      "[CV] reg_alpha=0.001 .................................................\n",
      "[CV] .................................. reg_alpha=0.001, total=   1.8s\n",
      "[CV] reg_alpha=0.001 .................................................\n",
      "[CV] .................................. reg_alpha=0.001, total=   1.8s\n",
      "[CV] reg_alpha=0.001 .................................................\n",
      "[CV] .................................. reg_alpha=0.001, total=   1.8s\n",
      "[CV] reg_alpha=0.01 ..................................................\n",
      "[CV] ................................... reg_alpha=0.01, total=   1.7s\n",
      "[CV] reg_alpha=0.01 ..................................................\n",
      "[CV] ................................... reg_alpha=0.01, total=   1.8s\n",
      "[CV] reg_alpha=0.01 ..................................................\n",
      "[CV] ................................... reg_alpha=0.01, total=   1.8s\n",
      "[CV] reg_alpha=0.01 ..................................................\n",
      "[CV] ................................... reg_alpha=0.01, total=   1.8s\n",
      "[CV] reg_alpha=0.01 ..................................................\n",
      "[CV] ................................... reg_alpha=0.01, total=   1.8s\n",
      "[CV] reg_alpha=0.1 ...................................................\n",
      "[CV] .................................... reg_alpha=0.1, total=   1.7s\n",
      "[CV] reg_alpha=0.1 ...................................................\n",
      "[CV] .................................... reg_alpha=0.1, total=   1.8s\n",
      "[CV] reg_alpha=0.1 ...................................................\n",
      "[CV] .................................... reg_alpha=0.1, total=   1.8s\n",
      "[CV] reg_alpha=0.1 ...................................................\n",
      "[CV] .................................... reg_alpha=0.1, total=   1.8s\n",
      "[CV] reg_alpha=0.1 ...................................................\n",
      "[CV] .................................... reg_alpha=0.1, total=   1.8s\n",
      "[CV] reg_alpha=1 .....................................................\n",
      "[CV] ...................................... reg_alpha=1, total=   1.7s\n",
      "[CV] reg_alpha=1 .....................................................\n",
      "[CV] ...................................... reg_alpha=1, total=   1.8s\n",
      "[CV] reg_alpha=1 .....................................................\n",
      "[CV] ...................................... reg_alpha=1, total=   1.8s\n",
      "[CV] reg_alpha=1 .....................................................\n",
      "[CV] ...................................... reg_alpha=1, total=   1.8s\n",
      "[CV] reg_alpha=1 .....................................................\n",
      "[CV] ...................................... reg_alpha=1, total=   1.8s\n",
      "[CV] reg_alpha=10 ....................................................\n",
      "[CV] ..................................... reg_alpha=10, total=   1.7s\n",
      "[CV] reg_alpha=10 ....................................................\n",
      "[CV] ..................................... reg_alpha=10, total=   1.9s\n",
      "[CV] reg_alpha=10 ....................................................\n",
      "[CV] ..................................... reg_alpha=10, total=   1.9s\n",
      "[CV] reg_alpha=10 ....................................................\n",
      "[CV] ..................................... reg_alpha=10, total=   1.8s\n",
      "[CV] reg_alpha=10 ....................................................\n",
      "[CV] ..................................... reg_alpha=10, total=   1.8s\n",
      "[CV] reg_alpha=100 ...................................................\n",
      "[CV] .................................... reg_alpha=100, total=   1.6s\n",
      "[CV] reg_alpha=100 ...................................................\n",
      "[CV] .................................... reg_alpha=100, total=   1.6s\n",
      "[CV] reg_alpha=100 ...................................................\n",
      "[CV] .................................... reg_alpha=100, total=   1.6s\n",
      "[CV] reg_alpha=100 ...................................................\n",
      "[CV] .................................... reg_alpha=100, total=   1.6s\n",
      "[CV] reg_alpha=100 ...................................................\n",
      "[CV] .................................... reg_alpha=100, total=   1.6s\n"
     ]
    },
    {
     "name": "stderr",
     "output_type": "stream",
     "text": [
      "[Parallel(n_jobs=1)]: Done  40 out of  40 | elapsed:  1.2min finished\n"
     ]
    },
    {
     "data": {
      "text/plain": [
       "GridSearchCV(cv=5,\n",
       "             estimator=XGBRegressor(base_score=None, booster=None,\n",
       "                                    colsample_bylevel=None,\n",
       "                                    colsample_bynode=None, colsample_bytree=0.6,\n",
       "                                    gamma=0.1, gpu_id=None,\n",
       "                                    importance_type='gain',\n",
       "                                    interaction_constraints=None,\n",
       "                                    learning_rate=0.1, max_delta_step=None,\n",
       "                                    max_depth=5, min_child_weight=4,\n",
       "                                    missing=nan, monotone_constraints=None,\n",
       "                                    n_estimators=150, n_jobs=None, nthread=2,\n",
       "                                    num_parallel_tree=None, random_state=None,\n",
       "                                    reg_alpha=None, reg_lambda=None,\n",
       "                                    scale_pos_weight=None, subsample=0.8,\n",
       "                                    tree_method=None, validate_parameters=None,\n",
       "                                    verbosity=None),\n",
       "             param_grid={'reg_alpha': [1e-05, 0.0001, 0.001, 0.01, 0.1, 1, 10,\n",
       "                                       100]},\n",
       "             scoring='neg_mean_squared_error', verbose=2)"
      ]
     },
     "execution_count": 78,
     "metadata": {},
     "output_type": "execute_result"
    }
   ],
   "source": [
    "param_test = {\n",
    "    'reg_alpha': [1e-5, 1e-4, 1e-3, 1e-2, 1e-1, 1, 10, 100]\n",
    "}\n",
    "default_param['subsample'] = 0.8\n",
    "default_param['colsample_bytree'] = 0.6\n",
    "\n",
    "grid_search = GridSearchCV(estimator=XGBRegressor(nthread=2, **default_param), param_grid=param_test, scoring='neg_mean_squared_error', cv=5, verbose=2)\n",
    "grid_search.fit(X_df_train, Y_df_train)"
   ]
  },
  {
   "cell_type": "code",
   "execution_count": 79,
   "metadata": {},
   "outputs": [
    {
     "name": "stdout",
     "output_type": "stream",
     "text": [
      "Best score: -0.792969\n",
      "Best param:  {'reg_alpha': 10}\n"
     ]
    }
   ],
   "source": [
    "print('Best score: %f' % grid_search.best_score_)\n",
    "print('Best param: ', grid_search.best_params_)"
   ]
  },
  {
   "cell_type": "code",
   "execution_count": 57,
   "metadata": {},
   "outputs": [
    {
     "name": "stdout",
     "output_type": "stream",
     "text": [
      "[16:44:08] WARNING: /home/conda/feedstock_root/build_artifacts/xgboost_1607604574104/work/src/learner.cc:541: \n",
      "Parameters: { n_estimators } might not be used.\n",
      "\n",
      "  This may not be accurate due to some parameters are only used in language bindings but\n",
      "  passed down to XGBoost core.  Or some parameters are not used but slip through this\n",
      "  verification. Please open an issue if you find above cases.\n",
      "\n",
      "\n",
      "[0]\teval-rmse:5.10329\n",
      "[1]\teval-rmse:4.61510\n",
      "[2]\teval-rmse:4.17702\n",
      "[3]\teval-rmse:3.78530\n",
      "[4]\teval-rmse:3.43876\n",
      "[5]\teval-rmse:3.12766\n",
      "[6]\teval-rmse:2.85575\n",
      "[7]\teval-rmse:2.61145\n",
      "[8]\teval-rmse:2.39784\n",
      "[9]\teval-rmse:2.20676\n",
      "[10]\teval-rmse:2.04234\n",
      "[11]\teval-rmse:1.89658\n",
      "[12]\teval-rmse:1.76987\n",
      "[13]\teval-rmse:1.65979\n",
      "[14]\teval-rmse:1.56482\n",
      "[15]\teval-rmse:1.48321\n",
      "[16]\teval-rmse:1.41378\n",
      "[17]\teval-rmse:1.35530\n",
      "[18]\teval-rmse:1.30601\n",
      "[19]\teval-rmse:1.26525\n",
      "[20]\teval-rmse:1.22919\n",
      "[21]\teval-rmse:1.20112\n",
      "[22]\teval-rmse:1.17637\n",
      "[23]\teval-rmse:1.15650\n",
      "[24]\teval-rmse:1.14022\n",
      "[25]\teval-rmse:1.12588\n",
      "[26]\teval-rmse:1.11406\n",
      "[27]\teval-rmse:1.10538\n",
      "[28]\teval-rmse:1.09743\n",
      "[29]\teval-rmse:1.09159\n",
      "[30]\teval-rmse:1.08489\n",
      "[31]\teval-rmse:1.07994\n",
      "[32]\teval-rmse:1.07482\n",
      "[33]\teval-rmse:1.07224\n",
      "[34]\teval-rmse:1.06907\n",
      "[35]\teval-rmse:1.06729\n",
      "[36]\teval-rmse:1.06578\n",
      "[37]\teval-rmse:1.06344\n",
      "[38]\teval-rmse:1.06244\n",
      "[39]\teval-rmse:1.06165\n",
      "[40]\teval-rmse:1.06069\n",
      "[41]\teval-rmse:1.05964\n",
      "[42]\teval-rmse:1.05847\n",
      "[43]\teval-rmse:1.05807\n",
      "[44]\teval-rmse:1.05770\n",
      "[45]\teval-rmse:1.05736\n",
      "[46]\teval-rmse:1.05663\n",
      "[47]\teval-rmse:1.05644\n",
      "[48]\teval-rmse:1.05637\n",
      "[49]\teval-rmse:1.05612\n",
      "[50]\teval-rmse:1.05563\n",
      "[51]\teval-rmse:1.05570\n",
      "[52]\teval-rmse:1.05536\n",
      "[53]\teval-rmse:1.05502\n",
      "[54]\teval-rmse:1.05433\n",
      "[55]\teval-rmse:1.05433\n",
      "[56]\teval-rmse:1.05377\n",
      "[57]\teval-rmse:1.05392\n",
      "[58]\teval-rmse:1.05350\n",
      "[59]\teval-rmse:1.05337\n",
      "[60]\teval-rmse:1.05329\n",
      "[61]\teval-rmse:1.05323\n",
      "[62]\teval-rmse:1.05327\n",
      "[63]\teval-rmse:1.05313\n",
      "[64]\teval-rmse:1.05250\n",
      "[65]\teval-rmse:1.05218\n",
      "[66]\teval-rmse:1.05201\n",
      "[67]\teval-rmse:1.05177\n",
      "[68]\teval-rmse:1.05138\n",
      "[69]\teval-rmse:1.05141\n",
      "[70]\teval-rmse:1.05103\n",
      "[71]\teval-rmse:1.05104\n",
      "[72]\teval-rmse:1.05088\n",
      "[73]\teval-rmse:1.05074\n",
      "[74]\teval-rmse:1.05076\n",
      "[75]\teval-rmse:1.05068\n",
      "[76]\teval-rmse:1.05054\n",
      "[77]\teval-rmse:1.05040\n",
      "[78]\teval-rmse:1.05035\n",
      "[79]\teval-rmse:1.05045\n",
      "[80]\teval-rmse:1.05013\n",
      "[81]\teval-rmse:1.04998\n",
      "[82]\teval-rmse:1.05001\n",
      "[83]\teval-rmse:1.05002\n",
      "[84]\teval-rmse:1.05001\n",
      "[85]\teval-rmse:1.04969\n",
      "[86]\teval-rmse:1.04953\n",
      "[87]\teval-rmse:1.04948\n",
      "[88]\teval-rmse:1.04949\n",
      "[89]\teval-rmse:1.04953\n",
      "[90]\teval-rmse:1.04935\n",
      "[91]\teval-rmse:1.04910\n",
      "[92]\teval-rmse:1.04883\n",
      "[93]\teval-rmse:1.04862\n",
      "[94]\teval-rmse:1.04871\n",
      "[95]\teval-rmse:1.04873\n",
      "[96]\teval-rmse:1.04874\n",
      "[97]\teval-rmse:1.04863\n",
      "[98]\teval-rmse:1.04848\n",
      "[99]\teval-rmse:1.04837\n",
      "[100]\teval-rmse:1.04833\n",
      "[101]\teval-rmse:1.04837\n",
      "[102]\teval-rmse:1.04835\n",
      "[103]\teval-rmse:1.04826\n",
      "[104]\teval-rmse:1.04780\n",
      "[105]\teval-rmse:1.04788\n",
      "[106]\teval-rmse:1.04800\n",
      "[107]\teval-rmse:1.04796\n",
      "[108]\teval-rmse:1.04796\n",
      "[109]\teval-rmse:1.04803\n",
      "[110]\teval-rmse:1.04791\n",
      "[111]\teval-rmse:1.04800\n",
      "[112]\teval-rmse:1.04793\n",
      "[113]\teval-rmse:1.04799\n",
      "[114]\teval-rmse:1.04802\n",
      "[115]\teval-rmse:1.04746\n",
      "[116]\teval-rmse:1.04750\n",
      "[117]\teval-rmse:1.04753\n",
      "[118]\teval-rmse:1.04756\n",
      "[119]\teval-rmse:1.04783\n",
      "[120]\teval-rmse:1.04768\n",
      "[121]\teval-rmse:1.04768\n",
      "[122]\teval-rmse:1.04757\n",
      "[123]\teval-rmse:1.04741\n",
      "[124]\teval-rmse:1.04751\n",
      "[125]\teval-rmse:1.04745\n",
      "[126]\teval-rmse:1.04748\n",
      "[127]\teval-rmse:1.04748\n",
      "[128]\teval-rmse:1.04750\n",
      "[129]\teval-rmse:1.04752\n",
      "[130]\teval-rmse:1.04748\n",
      "[131]\teval-rmse:1.04751\n",
      "[132]\teval-rmse:1.04773\n",
      "[133]\teval-rmse:1.04741\n",
      "[134]\teval-rmse:1.04743\n",
      "[135]\teval-rmse:1.04742\n",
      "[136]\teval-rmse:1.04718\n",
      "[137]\teval-rmse:1.04719\n",
      "[138]\teval-rmse:1.04719\n",
      "[139]\teval-rmse:1.04710\n",
      "[140]\teval-rmse:1.04707\n",
      "[141]\teval-rmse:1.04714\n",
      "[142]\teval-rmse:1.04724\n",
      "[143]\teval-rmse:1.04725\n",
      "[144]\teval-rmse:1.04723\n",
      "[145]\teval-rmse:1.04677\n",
      "[146]\teval-rmse:1.04671\n",
      "[147]\teval-rmse:1.04650\n",
      "[148]\teval-rmse:1.04645\n",
      "[149]\teval-rmse:1.04653\n"
     ]
    }
   ],
   "source": [
    "default_param['reg_alpha'] = 10\n",
    "eval_list = [(test, 'eval')]\n",
    "model=xgb.train(default_param, train, default_param['n_estimators'], eval_list)"
   ]
  },
  {
   "cell_type": "code",
   "execution_count": 58,
   "metadata": {},
   "outputs": [
    {
     "data": {
      "text/plain": [
       "'single_tree.pdf'"
      ]
     },
     "execution_count": 58,
     "metadata": {},
     "output_type": "execute_result"
    }
   ],
   "source": [
    "image = xgb.to_graphviz(model)\n",
    "image.render('single_tree', format='pdf')"
   ]
  },
  {
   "cell_type": "code",
   "execution_count": 59,
   "metadata": {},
   "outputs": [
    {
     "data": {
      "image/png": "[encoded data removed]",
      "text/plain": [
       "<Figure size 1332x756 with 1 Axes>"
      ]
     },
     "metadata": {
      "needs_background": "light"
     },
     "output_type": "display_data"
    }
   ],
   "source": [
    "xgb.plot_importance(model)\n",
    "fig = plt.gcf()\n",
    "fig.set_size_inches(18.5, 10.5)\n",
    "plt.savefig('weight.pdf', bbox_inches='tight')"
   ]
  },
  {
   "cell_type": "code",
   "execution_count": 60,
   "metadata": {},
   "outputs": [
    {
     "data": {
      "image/png": "[encoded data removed]",
      "text/plain": [
       "<Figure size 1332x756 with 1 Axes>"
      ]
     },
     "metadata": {
      "needs_background": "light"
     },
     "output_type": "display_data"
    }
   ],
   "source": [
    "xgb.plot_importance(model, importance_type='gain')\n",
    "fig = plt.gcf()\n",
    "fig.set_size_inches(18.5, 10.5)\n",
    "plt.savefig('gain.pdf', bbox_inches='tight')"
   ]
  },
  {
   "cell_type": "code",
   "execution_count": 61,
   "metadata": {},
   "outputs": [
    {
     "data": {
      "image/png": "[encoded data removed]",
      "text/plain": [
       "<Figure size 1332x756 with 1 Axes>"
      ]
     },
     "metadata": {
      "needs_background": "light"
     },
     "output_type": "display_data"
    }
   ],
   "source": [
    "xgb.plot_importance(model, importance_type='cover')\n",
    "fig = plt.gcf()\n",
    "fig.set_size_inches(18.5, 10.5)\n",
    "plt.savefig('cover.pdf', bbox_inches='tight')"
   ]
  },
  {
   "cell_type": "markdown",
   "metadata": {},
   "source": [
    "### Explain the model using SHAP"
   ]
  },
  {
   "cell_type": "code",
   "execution_count": 62,
   "metadata": {},
   "outputs": [],
   "source": [
    "explainer = shap.TreeExplainer(model)\n",
    "shape_values = explainer.shap_values(X_df_train)"
   ]
  },
  {
   "cell_type": "code",
   "execution_count": 63,
   "metadata": {},
   "outputs": [
    {
     "data": {
      "image/png": "[encoded data removed]",
      "text/plain": [
       "<Figure size 576x684 with 2 Axes>"
      ]
     },
     "metadata": {
      "needs_background": "light"
     },
     "output_type": "display_data"
    }
   ],
   "source": [
    "shap.summary_plot(shape_values, X_df_train, show=False)\n",
    "fig = plt.gcf()\n",
    "#fig.set_size_inches(20, 10)\n",
    "plt.savefig('imp_bar1.pdf', bbox_inches='tight')"
   ]
  },
  {
   "cell_type": "code",
   "execution_count": 64,
   "metadata": {},
   "outputs": [
    {
     "data": {
      "image/png": "[encoded data removed]",
      "text/plain": [
       "<Figure size 576x684 with 1 Axes>"
      ]
     },
     "metadata": {
      "needs_background": "light"
     },
     "output_type": "display_data"
    }
   ],
   "source": [
    "shap.summary_plot(shape_values, X_df_train, plot_type='bar', show=False)\n",
    "fig = plt.gcf()\n",
    "#fig.set_size_inches(18.5, 10.5)\n",
    "plt.savefig('imp_bar2.pdf', bbox_inches='tight')"
   ]
  },
  {
   "cell_type": "code",
   "execution_count": 65,
   "metadata": {},
   "outputs": [
    {
     "data": {
      "text/plain": [
       "{'learning_rate': 0.1,\n",
       " 'n_estimators': 150,\n",
       " 'max_depth': 5,\n",
       " 'min_child_weight': 4,\n",
       " 'gamma': 0.1,\n",
       " 'subsample': 0.8,\n",
       " 'colsample_bytree': 0.6,\n",
       " 'reg_alpha': 10}"
      ]
     },
     "execution_count": 65,
     "metadata": {},
     "output_type": "execute_result"
    }
   ],
   "source": [
    "default_param"
   ]
  },
  {
   "cell_type": "code",
   "execution_count": null,
   "metadata": {},
   "outputs": [],
   "source": []
  }
 ],
 "metadata": {
  "kernelspec": {
   "display_name": "Python 3",
   "language": "python",
   "name": "python3"
  },
  "language_info": {
   "codemirror_mode": {
    "name": "ipython",
    "version": 3
   },
   "file_extension": ".py",
   "mimetype": "text/x-python",
   "name": "python",
   "nbconvert_exporter": "python",
   "pygments_lexer": "ipython3",
   "version": "3.6.10"
  }
 },
 "nbformat": 4,
 "nbformat_minor": 2
}
